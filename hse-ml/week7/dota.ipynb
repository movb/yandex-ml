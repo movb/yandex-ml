{
 "cells": [
  {
   "cell_type": "markdown",
   "metadata": {},
   "source": [
    "# Предсказание победителя в игре Dota 2"
   ]
  },
  {
   "cell_type": "markdown",
   "metadata": {},
   "source": [
    "## Загрузка и предобработка данных\n",
    "\n",
    "Загрузим тренировочные данные в *train_data*, а тестовые в *test_data*. В дальнейшем мы объединим оба датасета в один фрейм *data* для удобства работы."
   ]
  },
  {
   "cell_type": "code",
   "execution_count": 68,
   "metadata": {
    "collapsed": false
   },
   "outputs": [],
   "source": [
    "import pandas as pd\n",
    "import numpy as np"
   ]
  },
  {
   "cell_type": "code",
   "execution_count": 69,
   "metadata": {
    "collapsed": true
   },
   "outputs": [],
   "source": [
    "train_data = pd.read_csv('./features.csv', index_col='match_id')\n",
    "test_data = pd.read_csv('./features_test.csv', index_col='match_id')"
   ]
  },
  {
   "cell_type": "markdown",
   "metadata": {},
   "source": [
    "Посмотрим что у интересного содержится в тренировочных данных:"
   ]
  },
  {
   "cell_type": "code",
   "execution_count": 70,
   "metadata": {
    "collapsed": false
   },
   "outputs": [
    {
     "data": {
      "text/html": [
       "<div>\n",
       "<table border=\"1\" class=\"dataframe\">\n",
       "  <thead>\n",
       "    <tr style=\"text-align: right;\">\n",
       "      <th></th>\n",
       "      <th>start_time</th>\n",
       "      <th>lobby_type</th>\n",
       "      <th>r1_hero</th>\n",
       "      <th>r1_level</th>\n",
       "      <th>r1_xp</th>\n",
       "      <th>r1_gold</th>\n",
       "      <th>r1_lh</th>\n",
       "      <th>r1_kills</th>\n",
       "      <th>r1_deaths</th>\n",
       "      <th>r1_items</th>\n",
       "      <th>...</th>\n",
       "      <th>dire_boots_count</th>\n",
       "      <th>dire_ward_observer_count</th>\n",
       "      <th>dire_ward_sentry_count</th>\n",
       "      <th>dire_first_ward_time</th>\n",
       "      <th>duration</th>\n",
       "      <th>radiant_win</th>\n",
       "      <th>tower_status_radiant</th>\n",
       "      <th>tower_status_dire</th>\n",
       "      <th>barracks_status_radiant</th>\n",
       "      <th>barracks_status_dire</th>\n",
       "    </tr>\n",
       "    <tr>\n",
       "      <th>match_id</th>\n",
       "      <th></th>\n",
       "      <th></th>\n",
       "      <th></th>\n",
       "      <th></th>\n",
       "      <th></th>\n",
       "      <th></th>\n",
       "      <th></th>\n",
       "      <th></th>\n",
       "      <th></th>\n",
       "      <th></th>\n",
       "      <th></th>\n",
       "      <th></th>\n",
       "      <th></th>\n",
       "      <th></th>\n",
       "      <th></th>\n",
       "      <th></th>\n",
       "      <th></th>\n",
       "      <th></th>\n",
       "      <th></th>\n",
       "      <th></th>\n",
       "      <th></th>\n",
       "    </tr>\n",
       "  </thead>\n",
       "  <tbody>\n",
       "    <tr>\n",
       "      <th>0</th>\n",
       "      <td>1430198770</td>\n",
       "      <td>7</td>\n",
       "      <td>11</td>\n",
       "      <td>5</td>\n",
       "      <td>2098</td>\n",
       "      <td>1489</td>\n",
       "      <td>20</td>\n",
       "      <td>0</td>\n",
       "      <td>0</td>\n",
       "      <td>7</td>\n",
       "      <td>...</td>\n",
       "      <td>4</td>\n",
       "      <td>2</td>\n",
       "      <td>2</td>\n",
       "      <td>-52</td>\n",
       "      <td>2874</td>\n",
       "      <td>1</td>\n",
       "      <td>1796</td>\n",
       "      <td>0</td>\n",
       "      <td>51</td>\n",
       "      <td>0</td>\n",
       "    </tr>\n",
       "    <tr>\n",
       "      <th>1</th>\n",
       "      <td>1430220345</td>\n",
       "      <td>0</td>\n",
       "      <td>42</td>\n",
       "      <td>4</td>\n",
       "      <td>1188</td>\n",
       "      <td>1033</td>\n",
       "      <td>9</td>\n",
       "      <td>0</td>\n",
       "      <td>1</td>\n",
       "      <td>12</td>\n",
       "      <td>...</td>\n",
       "      <td>4</td>\n",
       "      <td>3</td>\n",
       "      <td>1</td>\n",
       "      <td>-5</td>\n",
       "      <td>2463</td>\n",
       "      <td>1</td>\n",
       "      <td>1974</td>\n",
       "      <td>0</td>\n",
       "      <td>63</td>\n",
       "      <td>1</td>\n",
       "    </tr>\n",
       "    <tr>\n",
       "      <th>2</th>\n",
       "      <td>1430227081</td>\n",
       "      <td>7</td>\n",
       "      <td>33</td>\n",
       "      <td>4</td>\n",
       "      <td>1319</td>\n",
       "      <td>1270</td>\n",
       "      <td>22</td>\n",
       "      <td>0</td>\n",
       "      <td>0</td>\n",
       "      <td>12</td>\n",
       "      <td>...</td>\n",
       "      <td>4</td>\n",
       "      <td>3</td>\n",
       "      <td>1</td>\n",
       "      <td>13</td>\n",
       "      <td>2130</td>\n",
       "      <td>0</td>\n",
       "      <td>0</td>\n",
       "      <td>1830</td>\n",
       "      <td>0</td>\n",
       "      <td>63</td>\n",
       "    </tr>\n",
       "    <tr>\n",
       "      <th>3</th>\n",
       "      <td>1430263531</td>\n",
       "      <td>1</td>\n",
       "      <td>29</td>\n",
       "      <td>4</td>\n",
       "      <td>1779</td>\n",
       "      <td>1056</td>\n",
       "      <td>14</td>\n",
       "      <td>0</td>\n",
       "      <td>0</td>\n",
       "      <td>5</td>\n",
       "      <td>...</td>\n",
       "      <td>4</td>\n",
       "      <td>2</td>\n",
       "      <td>0</td>\n",
       "      <td>27</td>\n",
       "      <td>1459</td>\n",
       "      <td>0</td>\n",
       "      <td>1920</td>\n",
       "      <td>2047</td>\n",
       "      <td>50</td>\n",
       "      <td>63</td>\n",
       "    </tr>\n",
       "    <tr>\n",
       "      <th>4</th>\n",
       "      <td>1430282290</td>\n",
       "      <td>7</td>\n",
       "      <td>13</td>\n",
       "      <td>4</td>\n",
       "      <td>1431</td>\n",
       "      <td>1090</td>\n",
       "      <td>8</td>\n",
       "      <td>1</td>\n",
       "      <td>0</td>\n",
       "      <td>8</td>\n",
       "      <td>...</td>\n",
       "      <td>3</td>\n",
       "      <td>3</td>\n",
       "      <td>0</td>\n",
       "      <td>-16</td>\n",
       "      <td>2449</td>\n",
       "      <td>0</td>\n",
       "      <td>4</td>\n",
       "      <td>1974</td>\n",
       "      <td>3</td>\n",
       "      <td>63</td>\n",
       "    </tr>\n",
       "  </tbody>\n",
       "</table>\n",
       "<p>5 rows × 108 columns</p>\n",
       "</div>"
      ],
      "text/plain": [
       "          start_time  lobby_type  r1_hero  r1_level  r1_xp  r1_gold  r1_lh  \\\n",
       "match_id                                                                     \n",
       "0         1430198770           7       11         5   2098     1489     20   \n",
       "1         1430220345           0       42         4   1188     1033      9   \n",
       "2         1430227081           7       33         4   1319     1270     22   \n",
       "3         1430263531           1       29         4   1779     1056     14   \n",
       "4         1430282290           7       13         4   1431     1090      8   \n",
       "\n",
       "          r1_kills  r1_deaths  r1_items          ...           \\\n",
       "match_id                                         ...            \n",
       "0                0          0         7          ...            \n",
       "1                0          1        12          ...            \n",
       "2                0          0        12          ...            \n",
       "3                0          0         5          ...            \n",
       "4                1          0         8          ...            \n",
       "\n",
       "          dire_boots_count  dire_ward_observer_count  dire_ward_sentry_count  \\\n",
       "match_id                                                                       \n",
       "0                        4                         2                       2   \n",
       "1                        4                         3                       1   \n",
       "2                        4                         3                       1   \n",
       "3                        4                         2                       0   \n",
       "4                        3                         3                       0   \n",
       "\n",
       "          dire_first_ward_time  duration  radiant_win  tower_status_radiant  \\\n",
       "match_id                                                                      \n",
       "0                          -52      2874            1                  1796   \n",
       "1                           -5      2463            1                  1974   \n",
       "2                           13      2130            0                     0   \n",
       "3                           27      1459            0                  1920   \n",
       "4                          -16      2449            0                     4   \n",
       "\n",
       "          tower_status_dire  barracks_status_radiant  barracks_status_dire  \n",
       "match_id                                                                    \n",
       "0                         0                       51                     0  \n",
       "1                         0                       63                     1  \n",
       "2                      1830                        0                    63  \n",
       "3                      2047                       50                    63  \n",
       "4                      1974                        3                    63  \n",
       "\n",
       "[5 rows x 108 columns]"
      ]
     },
     "execution_count": 70,
     "metadata": {},
     "output_type": "execute_result"
    }
   ],
   "source": [
    "train_data.head()"
   ]
  },
  {
   "cell_type": "markdown",
   "metadata": {},
   "source": [
    "Признаки, которые мы будем использовать возьмем из тестовой выборки. Это значит, что мы не будем использовать признаки *duration, radiant_win, tower_status_radiant, tower_status_dire, barracks_status_radiant и barracks_status_dire*."
   ]
  },
  {
   "cell_type": "code",
   "execution_count": 71,
   "metadata": {
    "collapsed": false
   },
   "outputs": [],
   "source": [
    "feature_columns_to_use = test_data.columns.tolist()"
   ]
  },
  {
   "cell_type": "markdown",
   "metadata": {},
   "source": [
    "Проверим выборку на наличие пропусков. Сразу выберем те признаки, количество которых не равно числу строк во всей матрице,  а именно 97230:"
   ]
  },
  {
   "cell_type": "code",
   "execution_count": 72,
   "metadata": {
    "collapsed": false
   },
   "outputs": [
    {
     "data": {
      "text/plain": [
       "first_blood_time               77677\n",
       "first_blood_team               77677\n",
       "first_blood_player1            77677\n",
       "first_blood_player2            53243\n",
       "radiant_bottle_time            81539\n",
       "radiant_courier_time           96538\n",
       "radiant_flying_courier_time    69751\n",
       "radiant_first_ward_time        95394\n",
       "dire_bottle_time               81087\n",
       "dire_courier_time              96554\n",
       "dire_flying_courier_time       71132\n",
       "dire_first_ward_time           95404\n",
       "dtype: int64"
      ]
     },
     "execution_count": 72,
     "metadata": {},
     "output_type": "execute_result"
    }
   ],
   "source": [
    "train_data[feature_columns_to_use].count()[train_data[feature_columns_to_use].count() != 97230]"
   ]
  },
  {
   "cell_type": "markdown",
   "metadata": {},
   "source": [
    "Видно, что некоторые признаки отсутствуют, причем в порядочном количестве. Но отсутсвие некоторых данных в этих признаков легко объяснимо, так как мы рассматриваем только первые 5 минут игры. Например *first_blood_time*, *first_blood_team*, *first_blood_player1* и *first_blood_player2* могут отсутствовать, потому что за первые 5 минут не было первой крови. В признаке *first_blood_player2* еще больше пропущенных значений, видимо потому что если один из игроков все же завалил кого-то, для второго игрока это событие могло в 5 минут и не наступить. *radiant_bottle_time*, *radiant_courier_time*, *radiant_flying_courier_time* отсутствуют, потому что игроки не успели купить соответствующие предметы, так же *radiant_first_ward_time* может отсутствовать, если никто не успел установить \"наблюдателя\". Для Dire команды аналогично."
   ]
  },
  {
   "cell_type": "markdown",
   "metadata": {},
   "source": [
    "Соберем тестовые и тренировочные данные, для того чтобы проводить сразу все преобразования на тестовых и на тренировочных данных:"
   ]
  },
  {
   "cell_type": "code",
   "execution_count": 73,
   "metadata": {
    "collapsed": true
   },
   "outputs": [],
   "source": [
    "data = train_data[feature_columns_to_use].append(test_data[feature_columns_to_use])"
   ]
  },
  {
   "cell_type": "markdown",
   "metadata": {},
   "source": [
    "Заменил пропущенные значения в данных на нули:"
   ]
  },
  {
   "cell_type": "code",
   "execution_count": 74,
   "metadata": {
    "collapsed": false
   },
   "outputs": [],
   "source": [
    "data = data.fillna(0)"
   ]
  },
  {
   "cell_type": "markdown",
   "metadata": {},
   "source": [
    "Столбец, содержащий целевую переменную, это **radiant_win**. В нем содержится 1, если победила команда Radiant и 0 в противном случае. Для начала для обучения будем использовать все столбцы матрицы признаков. В итоге мы получим следующие датафреймы для обучения, тестирования и предсказания:"
   ]
  },
  {
   "cell_type": "code",
   "execution_count": 75,
   "metadata": {
    "collapsed": true
   },
   "outputs": [],
   "source": [
    "def prepare_data(data, train_data, feature_columns):\n",
    "    train_X = data[feature_columns][0:train_data.shape[0]].as_matrix()\n",
    "    train_y = train_data['radiant_win']\n",
    "    test_X = data[feature_columns][train_data.shape[0]::].as_matrix()\n",
    "    \n",
    "    return train_X, test_X, train_y\n",
    "\n",
    "feature_columns = feature_columns_to_use\n",
    "train_X, test_X, train_y = prepare_data(data, train_data, feature_columns)"
   ]
  },
  {
   "cell_type": "markdown",
   "metadata": {
    "collapsed": true
   },
   "source": [
    "## Обучение моделей. Градиентный бустинг."
   ]
  },
  {
   "cell_type": "markdown",
   "metadata": {},
   "source": [
    "Сделаем кросс-валидацию для градиентного бустинга, разобьем наши данные на 5 фолдов, предварительно перемешав. Используем различные количество количество деревьев: 10, 20, 30, 40 и 50. Посмотрим, на каком количестве деревьев будет достигнуто самое большое значение AUC-ROC."
   ]
  },
  {
   "cell_type": "code",
   "execution_count": 76,
   "metadata": {
    "collapsed": false
   },
   "outputs": [
    {
     "name": "stdout",
     "output_type": "stream",
     "text": [
      "10 estimators score = 0.664\n",
      "Time elapsed: 0:00:36.511622\n",
      "20 estimators score = 0.683\n",
      "Time elapsed: 0:01:08.812752\n",
      "30 estimators score = 0.689\n",
      "Time elapsed: 0:01:40.918995\n",
      "40 estimators score = 0.694\n",
      "Time elapsed: 0:02:13.665368\n",
      "50 estimators score = 0.697\n",
      "Time elapsed: 0:02:45.839476\n"
     ]
    }
   ],
   "source": [
    "from sklearn.cross_validation import KFold, cross_val_score\n",
    "from sklearn.ensemble import GradientBoostingClassifier\n",
    "import time, datetime\n",
    "\n",
    "cv = KFold(train_data.shape[0], n_folds=5, shuffle=True, random_state=241)\n",
    "\n",
    "for n_estimators in [10,20,30,40,50]:\n",
    "    start_time = datetime.datetime.now()\n",
    "    \n",
    "    clf = GradientBoostingClassifier(n_estimators=n_estimators)\n",
    "    score = cross_val_score(clf, train_X, train_y,\n",
    "                            cv=cv, scoring='roc_auc').mean()\n",
    "    \n",
    "    print('{0} estimators score = {1:.3f}'.format(n_estimators, score))\n",
    "    print('Time elapsed: {0}'.format(datetime.datetime.now() - start_time))"
   ]
  },
  {
   "cell_type": "markdown",
   "metadata": {},
   "source": [
    "Мы получили лучший результат на классификаторе из 50 деревьев. В целом все работает быстро, поэтому имеет смысл продолжить увеличение количества деревьев. Для 30 деревьев кросс-валидация проводилась за 1 минуту и 41 секунду, при этом качество предсказаний равно 0.689. Очевидно 30 деревьев не предел и имеет смысл использовать больше.\n",
    "\n",
    "Для увеличения скорости обучения модели, можно исключить признаки, делающие наименьший вклад в предсказание модели, а так же поиграться с максимальной глубиной деревьев (параметр *max_depth*) и скоростью обучения (параметр *learning_rate*). Уменьшая глубину деревьев (по-умолчанию 3) и увеличивая скорость (по-умолчанию 0.1) можно уменьшить время обучения модели, но так же возможно ухудшить качество обучения."
   ]
  },
  {
   "cell_type": "markdown",
   "metadata": {},
   "source": [
    "По-пробуем увеличить глубину деревьев и уменьшить learning_rate для увеличения результата"
   ]
  },
  {
   "cell_type": "code",
   "execution_count": 37,
   "metadata": {
    "collapsed": false
   },
   "outputs": [
    {
     "name": "stdout",
     "output_type": "stream",
     "text": [
      "lr=0.1 estimators score = 0.706\n",
      "Time elapsed: 0:08:29.495611\n",
      "lr=0.05 estimators score = 0.701\n",
      "Time elapsed: 0:08:32.654476\n"
     ]
    }
   ],
   "source": [
    "n_estimators = 50\n",
    "max_depth=6\n",
    "\n",
    "for learning_rate in [0.1, 0.05]:\n",
    "    start_time = datetime.datetime.now()\n",
    "\n",
    "    clf = GradientBoostingClassifier(n_estimators=n_estimators,\n",
    "                                     max_depth=max_depth,\n",
    "                                     learning_rate=learning_rate\n",
    "                                    )\n",
    "    score = cross_val_score(clf, train_X, train_y,\n",
    "                            cv=cv, scoring='roc_auc').mean()\n",
    "\n",
    "    print('lr={0} estimators score = {1:.3f}'.format(learning_rate, score))\n",
    "    print('Time elapsed: {0}'.format(datetime.datetime.now() - start_time))"
   ]
  },
  {
   "cell_type": "markdown",
   "metadata": {},
   "source": [
    "Отлично, мы немного улучшили наши показатели. Однако и вреся выросло существенно: с 2 минут 45 секунд до 8 минут 29 секунд. При этом результат с learning_rate равным 0.1 оказался даже лучше, чем с 0.05. Остановимся на параметрах n_estimators=50, learning_rate=0.1, и max_depth=6."
   ]
  },
  {
   "cell_type": "markdown",
   "metadata": {},
   "source": [
    "## Логистическая регрессия."
   ]
  },
  {
   "cell_type": "markdown",
   "metadata": {},
   "source": [
    "Построим теперь модель логистической регрессии. Нормируем признаки с помощью StandartScaler. Будем использовать L2 регулязацию и будем подбирать параметр регулизации C в интервале от $10^{-5}$ до $10^6$:"
   ]
  },
  {
   "cell_type": "code",
   "execution_count": 77,
   "metadata": {
    "collapsed": false
   },
   "outputs": [],
   "source": [
    "from sklearn.linear_model import LogisticRegression\n",
    "from sklearn.preprocessing import StandardScaler\n",
    "\n",
    "def scale_data(data, train_X, test_X):\n",
    "    ss = StandardScaler()\n",
    "    ss.fit(data)\n",
    "    train_X_scaled = ss.transform(train_X)\n",
    "    test_X_scaled = ss.transform(test_X)    \n",
    "    return train_X_scaled, test_X_scaled\n",
    "    \n",
    "train_X_scaled, test_X_scaled = scale_data(data, train_X, test_X)"
   ]
  },
  {
   "cell_type": "code",
   "execution_count": 78,
   "metadata": {
    "collapsed": false
   },
   "outputs": [
    {
     "name": "stdout",
     "output_type": "stream",
     "text": [
      "C=1e-05 estimators score = 0.6951351\n",
      "Time elapsed: 0:00:03.634230\n",
      "C=0.0001 estimators score = 0.7112499\n",
      "Time elapsed: 0:00:05.692641\n",
      "C=0.001 estimators score = 0.7161798\n",
      "Time elapsed: 0:00:10.972737\n",
      "C=0.01 estimators score = 0.7163415\n",
      "Time elapsed: 0:00:14.474826\n",
      "C=0.1 estimators score = 0.7163100\n",
      "Time elapsed: 0:00:15.139032\n",
      "C=1.0 estimators score = 0.7163066\n",
      "Time elapsed: 0:00:15.031594\n",
      "C=10.0 estimators score = 0.7163064\n",
      "Time elapsed: 0:00:15.053311\n",
      "C=100.0 estimators score = 0.7163062\n",
      "Time elapsed: 0:00:15.066369\n",
      "C=1000.0 estimators score = 0.7163062\n",
      "Time elapsed: 0:00:15.052998\n",
      "C=10000.0 estimators score = 0.7163062\n",
      "Time elapsed: 0:00:15.074319\n",
      "C=100000.0 estimators score = 0.7163062\n",
      "Time elapsed: 0:00:15.080239\n"
     ]
    }
   ],
   "source": [
    "for C in np.power(10.0, np.arange(-5,6)):\n",
    "    start_time = datetime.datetime.now()\n",
    "\n",
    "    clf = LogisticRegression(C=C,  penalty='l2', n_jobs=-1)\n",
    "    score = cross_val_score(clf, train_X_scaled, train_y,\n",
    "                            cv=cv, scoring='roc_auc').mean()\n",
    "\n",
    "    print('C={0} estimators score = {1:.7f}'.format(C, score))\n",
    "    print('Time elapsed: {0}'.format(datetime.datetime.now() - start_time))"
   ]
  },
  {
   "cell_type": "markdown",
   "metadata": {},
   "source": [
    "Мы видим, что в данном случае логистическая регрессия превзошла результаты градиентного бустинга. Для параметра *C=0.01* мы получили значение AUC ROC равное 0.7163415. Логистическая регрессия работает намного быстрее бустинга: всего примерно за ~14 секунд, но при этом не проигрывает в качестве. Возможно результат зависит линейно от некоторых параметров, типа количества золота, опыта и числа убитых противников, а логистическая регрессия хорошо смогла использовать эти параметры, построив разделяющую гипперплоскость.\n",
    "\n",
    "Удалим из данных категориальные признаки, оставив только числовые:"
   ]
  },
  {
   "cell_type": "code",
   "execution_count": 91,
   "metadata": {
    "collapsed": false
   },
   "outputs": [],
   "source": [
    "categorial_features = ['lobby_type', 'r1_hero', 'r2_hero',\n",
    "                       'r3_hero', 'r4_hero', 'r5_hero',\n",
    "                       'd1_hero', 'd2_hero', 'd3_hero',\n",
    "                       'd4_hero', 'd5_hero' ]\n",
    "\n",
    "new_feature_columns = [x for x in feature_columns_to_use if x not in categorial_features]\n",
    "train_X, test_X, train_y = prepare_data(data, train_data, new_feature_columns)\n",
    "train_X_scaled, test_X_scaled = scale_data(data[new_feature_columns], train_X, test_X)"
   ]
  },
  {
   "cell_type": "markdown",
   "metadata": {},
   "source": [
    "Попробуем снова:"
   ]
  },
  {
   "cell_type": "code",
   "execution_count": 80,
   "metadata": {
    "collapsed": false
   },
   "outputs": [
    {
     "name": "stdout",
     "output_type": "stream",
     "text": [
      "C=1e-05 estimators score = 0.6950712\n",
      "Time elapsed: 0:00:03.405743\n",
      "C=0.0001 estimators score = 0.7112484\n",
      "Time elapsed: 0:00:05.313801\n",
      "C=0.001 estimators score = 0.7162359\n",
      "Time elapsed: 0:00:10.149254\n",
      "C=0.01 estimators score = 0.7164009\n",
      "Time elapsed: 0:00:13.158288\n",
      "C=0.1 estimators score = 0.7163739\n",
      "Time elapsed: 0:00:13.643077\n",
      "C=1.0 estimators score = 0.7163707\n",
      "Time elapsed: 0:00:13.819297\n",
      "C=10.0 estimators score = 0.7163705\n",
      "Time elapsed: 0:00:13.816106\n",
      "C=100.0 estimators score = 0.7163706\n",
      "Time elapsed: 0:00:13.803889\n",
      "C=1000.0 estimators score = 0.7163706\n",
      "Time elapsed: 0:00:13.794795\n",
      "C=10000.0 estimators score = 0.7163706\n",
      "Time elapsed: 0:00:13.836257\n",
      "C=100000.0 estimators score = 0.7163706\n",
      "Time elapsed: 0:00:13.831195\n"
     ]
    }
   ],
   "source": [
    "for C in np.power(10.0, np.arange(-5,6)):\n",
    "    start_time = datetime.datetime.now()\n",
    "\n",
    "    clf = LogisticRegression(C=C,  penalty='l2', n_jobs=-1)\n",
    "    score = cross_val_score(clf, train_X_scaled, train_y,\n",
    "                            cv=cv, scoring='roc_auc').mean()\n",
    "\n",
    "    print('C={0} estimators score = {1:.7f}'.format(C, score))\n",
    "    print('Time elapsed: {0}'.format(datetime.datetime.now() - start_time))"
   ]
  },
  {
   "cell_type": "markdown",
   "metadata": {},
   "source": [
    "Мы видим, что результат совсем немного улучшился, при том же параметра *C=0.01* результат равен 0.7164009. Т.е. категориальные признаки отрицательно влияли на процесс обучения и просто выкинув их мы смогли улучшить результат. Логистическая регрессия пытается интерпритировать категориальные признаки как числовые характеристики и строить на основании них зависимость, что на самом деле не имеет физического смысла.\n",
    "\n",
    "Попробуем использовать мешок слов и заменить категориальные признаки о герои игроков на дамми признаки: сделаем N дополнительных признаков по количеству возможных героев и при этом i-й будет равен нулю, если i-й герой не участвовал в матче; единице, если i-й герой играл за команду Radiant; минус единице, если i-й герой играл за команду Dire."
   ]
  },
  {
   "cell_type": "code",
   "execution_count": 135,
   "metadata": {
    "collapsed": false
   },
   "outputs": [
    {
     "data": {
      "text/plain": [
       "108"
      ]
     },
     "execution_count": 135,
     "metadata": {},
     "output_type": "execute_result"
    }
   ],
   "source": [
    "heroes_features = ['r1_hero', 'r2_hero', 'r3_hero', 'r4_hero', 'r5_hero',\n",
    "                   'd1_hero', 'd2_hero', 'd3_hero', 'd4_hero', 'd5_hero' ]\n",
    "\n",
    "unique_values = set()\n",
    "for feature in heroes_features:\n",
    "    unique_values |= set(np.unique(data[feature]))\n",
    "    \n",
    "len(unique_values)"
   ]
  },
  {
   "cell_type": "code",
   "execution_count": 137,
   "metadata": {
    "collapsed": false
   },
   "outputs": [
    {
     "data": {
      "text/plain": [
       "array([  1,   2,   3,   4,   5,   6,   7,   8,   9,  10,  11,  12,  13,\n",
       "        14,  15,  16,  17,  18,  19,  20,  21,  22,  23,  25,  26,  27,\n",
       "        28,  29,  30,  31,  32,  33,  34,  35,  36,  37,  38,  39,  40,\n",
       "        41,  42,  43,  44,  45,  46,  47,  48,  49,  50,  51,  52,  53,\n",
       "        54,  55,  56,  57,  58,  59,  60,  61,  62,  63,  64,  65,  66,\n",
       "        67,  68,  69,  70,  71,  72,  73,  74,  75,  76,  77,  78,  79,\n",
       "        80,  81,  82,  83,  84,  85,  86,  87,  88,  89,  90,  91,  92,\n",
       "        93,  94,  95,  96,  97,  98,  99, 100, 101, 102, 103, 104, 105,\n",
       "       106, 109, 110, 112])"
      ]
     },
     "execution_count": 137,
     "metadata": {},
     "output_type": "execute_result"
    }
   ],
   "source": [
    "np.unique(data['r1_hero'])"
   ]
  },
  {
   "cell_type": "markdown",
   "metadata": {},
   "source": [
    "Видим что у нас всего 108 возможных видов героев, пронумерованных от 1 до 112."
   ]
  },
  {
   "cell_type": "code",
   "execution_count": 83,
   "metadata": {
    "collapsed": true
   },
   "outputs": [],
   "source": [
    "N = 112\n",
    "X_pick = np.zeros((data.shape[0], N))\n",
    "\n",
    "for i, match_id in enumerate(data.index):\n",
    "    for p in xrange(5):\n",
    "        X_pick[i, data.ix[match_id, 'r%d_hero' % (p+1)]-1] = 1\n",
    "        X_pick[i, data.ix[match_id, 'd%d_hero' % (p+1)]-1] = -1\n",
    "\n",
    "heroes_features = ['hero_N_{}'.format(i) for i in range(1,113)]\n",
    "heroes = pd.DataFrame(X_pick, columns=heroes_features, index=data.index)"
   ]
  },
  {
   "cell_type": "markdown",
   "metadata": {},
   "source": [
    "Проверим логистическую регрессию на новых данных. Не будем скейлить вновь добавленные фичи героев для начала:"
   ]
  },
  {
   "cell_type": "code",
   "execution_count": 99,
   "metadata": {
    "collapsed": false
   },
   "outputs": [],
   "source": [
    "train_X_scaled_with_heroes = np.hstack((train_X_scaled,\n",
    "                                        X_pick[0:train_data.shape[0]]))\n",
    "test_X_scaled_with_heroes = np.hstack((test_X_scaled,\n",
    "                                        X_pick[train_data.shape[0]::]))"
   ]
  },
  {
   "cell_type": "code",
   "execution_count": 100,
   "metadata": {
    "collapsed": false
   },
   "outputs": [
    {
     "name": "stdout",
     "output_type": "stream",
     "text": [
      "C=1e-05 estimators score = 0.6991850\n",
      "Time elapsed: 0:00:03.539834\n",
      "C=0.0001 estimators score = 0.7250197\n",
      "Time elapsed: 0:00:05.850475\n",
      "C=0.001 estimators score = 0.7462956\n",
      "Time elapsed: 0:00:12.286569\n",
      "C=0.01 estimators score = 0.7517357\n",
      "Time elapsed: 0:00:20.461273\n",
      "C=0.1 estimators score = 0.7519375\n",
      "Time elapsed: 0:00:27.972637\n",
      "C=1.0 estimators score = 0.7519197\n",
      "Time elapsed: 0:00:29.336793\n",
      "C=10.0 estimators score = 0.7519168\n",
      "Time elapsed: 0:00:30.054246\n"
     ]
    }
   ],
   "source": [
    "for C in np.power(10.0, np.arange(-5,2)):\n",
    "    start_time = datetime.datetime.now()\n",
    "\n",
    "    clf = LogisticRegression(C=C,  penalty='l2', n_jobs=-1)\n",
    "    score = cross_val_score(clf, train_X_scaled_with_heroes, train_y,\n",
    "                            cv=cv, scoring='roc_auc').mean()\n",
    "\n",
    "    print('C={0} estimators score = {1:.7f}'.format(C, score))\n",
    "    print('Time elapsed: {0}'.format(datetime.datetime.now() - start_time))"
   ]
  },
  {
   "cell_type": "markdown",
   "metadata": {},
   "source": [
    "Качество предсказаний на кросс-валидации существенно выросло. Сейчас максисмум равен 0.7519375 при параметре *C=0.1*. Видно, что признаки - герои, которые учавствовали в битве существенно влияет на качество предсказания. После того как мы привели данные признаки к виду, с которыми нормально может работать логистическая регрессия, качество модели значительно улучшилось. Теперь отсутствует проблема неправильной интерпретации этих признаков.\n",
    "\n",
    "А теперь тоже самое, но скейлим все данные:"
   ]
  },
  {
   "cell_type": "code",
   "execution_count": 102,
   "metadata": {
    "collapsed": true
   },
   "outputs": [],
   "source": [
    "data_with_heroes = pd.concat([data, heroes], axis=1)\n",
    "\n",
    "train_X, test_X, train_y = prepare_data(\n",
    "    data_with_heroes[new_feature_columns+heroes_features],\n",
    "    train_data,\n",
    "    new_feature_columns+heroes_features)\n",
    "\n",
    "train_X_scaled_with_heroes, test_X_scaled_with_heroes = scale_data(\n",
    "                    data_with_heroes[new_feature_columns+heroes_features],\n",
    "                    train_X, test_X)"
   ]
  },
  {
   "cell_type": "code",
   "execution_count": 103,
   "metadata": {
    "collapsed": false
   },
   "outputs": [
    {
     "name": "stdout",
     "output_type": "stream",
     "text": [
      "C=1e-05 estimators score = 0.7148443\n",
      "Time elapsed: 0:00:06.135694\n",
      "C=0.0001 estimators score = 0.7428481\n",
      "Time elapsed: 0:00:09.754201\n",
      "C=0.001 estimators score = 0.7516695\n",
      "Time elapsed: 0:00:18.618962\n",
      "C=0.01 estimators score = 0.7519703\n",
      "Time elapsed: 0:00:25.167908\n",
      "C=0.1 estimators score = 0.7519247\n",
      "Time elapsed: 0:00:27.098209\n",
      "C=1.0 estimators score = 0.7519175\n",
      "Time elapsed: 0:00:27.787238\n",
      "C=10.0 estimators score = 0.7519169\n",
      "Time elapsed: 0:00:27.758886\n"
     ]
    }
   ],
   "source": [
    "for C in np.power(10.0, np.arange(-5,2)):\n",
    "    start_time = datetime.datetime.now()\n",
    "\n",
    "    clf = LogisticRegression(C=C,  penalty='l2', n_jobs=-1)\n",
    "    score = cross_val_score(clf, train_X_scaled_with_heroes, train_y,\n",
    "                            cv=cv, scoring='roc_auc').mean()\n",
    "\n",
    "    print('C={0} estimators score = {1:.7f}'.format(C, score))\n",
    "    print('Time elapsed: {0}'.format(datetime.datetime.now() - start_time))"
   ]
  },
  {
   "cell_type": "markdown",
   "metadata": {},
   "source": [
    "Качество немного улучшилось, получили 0.7519703 при значении параметра *C=0.01*. \n",
    "\n",
    "Это лучшая модель из всех описанных, с помощью нее будут строиться итоговые предсказания."
   ]
  },
  {
   "cell_type": "markdown",
   "metadata": {},
   "source": [
    "## Строим предсказания для тестовых данных."
   ]
  },
  {
   "cell_type": "code",
   "execution_count": 109,
   "metadata": {
    "collapsed": false
   },
   "outputs": [],
   "source": [
    "clf = LogisticRegression(C=0.01,  penalty='l2', n_jobs=-1)\n",
    "clf.fit(train_X_scaled_with_heroes, train_y)\n",
    "pred_y = clf.predict_proba(test_X_scaled_with_heroes)[:, 1]"
   ]
  },
  {
   "cell_type": "code",
   "execution_count": 110,
   "metadata": {
    "collapsed": false
   },
   "outputs": [],
   "source": [
    "predicts = pd.DataFrame(pred_y, index=data[train_X.shape[0]::].index,\n",
    "                        columns=['radiant_win'])"
   ]
  },
  {
   "cell_type": "code",
   "execution_count": 111,
   "metadata": {
    "collapsed": false
   },
   "outputs": [
    {
     "data": {
      "text/html": [
       "<div>\n",
       "<table border=\"1\" class=\"dataframe\">\n",
       "  <thead>\n",
       "    <tr style=\"text-align: right;\">\n",
       "      <th></th>\n",
       "      <th>radiant_win</th>\n",
       "    </tr>\n",
       "    <tr>\n",
       "      <th>match_id</th>\n",
       "      <th></th>\n",
       "    </tr>\n",
       "  </thead>\n",
       "  <tbody>\n",
       "    <tr>\n",
       "      <th>6</th>\n",
       "      <td>0.822707</td>\n",
       "    </tr>\n",
       "    <tr>\n",
       "      <th>7</th>\n",
       "      <td>0.752106</td>\n",
       "    </tr>\n",
       "    <tr>\n",
       "      <th>10</th>\n",
       "      <td>0.188938</td>\n",
       "    </tr>\n",
       "    <tr>\n",
       "      <th>13</th>\n",
       "      <td>0.857577</td>\n",
       "    </tr>\n",
       "    <tr>\n",
       "      <th>16</th>\n",
       "      <td>0.243813</td>\n",
       "    </tr>\n",
       "  </tbody>\n",
       "</table>\n",
       "</div>"
      ],
      "text/plain": [
       "          radiant_win\n",
       "match_id             \n",
       "6            0.822707\n",
       "7            0.752106\n",
       "10           0.188938\n",
       "13           0.857577\n",
       "16           0.243813"
      ]
     },
     "execution_count": 111,
     "metadata": {},
     "output_type": "execute_result"
    }
   ],
   "source": [
    "predicts.head()"
   ]
  },
  {
   "cell_type": "markdown",
   "metadata": {},
   "source": [
    "Найдем минимальное и максимальное значение:"
   ]
  },
  {
   "cell_type": "code",
   "execution_count": 112,
   "metadata": {
    "collapsed": false
   },
   "outputs": [
    {
     "data": {
      "text/html": [
       "<div>\n",
       "<table border=\"1\" class=\"dataframe\">\n",
       "  <thead>\n",
       "    <tr style=\"text-align: right;\">\n",
       "      <th></th>\n",
       "      <th>radiant_win</th>\n",
       "    </tr>\n",
       "  </thead>\n",
       "  <tbody>\n",
       "    <tr>\n",
       "      <th>count</th>\n",
       "      <td>17177.000000</td>\n",
       "    </tr>\n",
       "    <tr>\n",
       "      <th>mean</th>\n",
       "      <td>0.516926</td>\n",
       "    </tr>\n",
       "    <tr>\n",
       "      <th>std</th>\n",
       "      <td>0.220227</td>\n",
       "    </tr>\n",
       "    <tr>\n",
       "      <th>min</th>\n",
       "      <td>0.008491</td>\n",
       "    </tr>\n",
       "    <tr>\n",
       "      <th>25%</th>\n",
       "      <td>0.346838</td>\n",
       "    </tr>\n",
       "    <tr>\n",
       "      <th>50%</th>\n",
       "      <td>0.521891</td>\n",
       "    </tr>\n",
       "    <tr>\n",
       "      <th>75%</th>\n",
       "      <td>0.690636</td>\n",
       "    </tr>\n",
       "    <tr>\n",
       "      <th>max</th>\n",
       "      <td>0.996278</td>\n",
       "    </tr>\n",
       "  </tbody>\n",
       "</table>\n",
       "</div>"
      ],
      "text/plain": [
       "        radiant_win\n",
       "count  17177.000000\n",
       "mean       0.516926\n",
       "std        0.220227\n",
       "min        0.008491\n",
       "25%        0.346838\n",
       "50%        0.521891\n",
       "75%        0.690636\n",
       "max        0.996278"
      ]
     },
     "execution_count": 112,
     "metadata": {},
     "output_type": "execute_result"
    }
   ],
   "source": [
    "predicts.describe()"
   ]
  },
  {
   "cell_type": "markdown",
   "metadata": {},
   "source": [
    "Минимальное значение равно 0.008491, максимальное 0.996278, в среднем модель предсказала победу Radiant в приблизительно 52% случаев.\n",
    "\n",
    "Сохраним предсказанные значения в файл:"
   ]
  },
  {
   "cell_type": "code",
   "execution_count": 113,
   "metadata": {
    "collapsed": true
   },
   "outputs": [],
   "source": [
    "predicts.to_csv('predicts.csv.gz', compression='gzip', float_format='%.6f')"
   ]
  },
  {
   "cell_type": "markdown",
   "metadata": {},
   "source": [
    "![](http://i.imgur.com/3cxtkW8.jpg)"
   ]
  },
  {
   "cell_type": "code",
   "execution_count": null,
   "metadata": {
    "collapsed": true
   },
   "outputs": [],
   "source": []
  }
 ],
 "metadata": {
  "kernelspec": {
   "display_name": "Python 2",
   "language": "python",
   "name": "python2"
  },
  "language_info": {
   "codemirror_mode": {
    "name": "ipython",
    "version": 2
   },
   "file_extension": ".py",
   "mimetype": "text/x-python",
   "name": "python",
   "nbconvert_exporter": "python",
   "pygments_lexer": "ipython2",
   "version": "2.7.11+"
  }
 },
 "nbformat": 4,
 "nbformat_minor": 0
}
