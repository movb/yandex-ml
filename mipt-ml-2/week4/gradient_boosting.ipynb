{
 "cells": [
  {
   "cell_type": "code",
   "execution_count": 30,
   "metadata": {
    "collapsed": true
   },
   "outputs": [],
   "source": [
    "import numpy as np\n",
    "import pandas as pd"
   ]
  },
  {
   "cell_type": "code",
   "execution_count": 3,
   "metadata": {
    "collapsed": true
   },
   "outputs": [],
   "source": [
    "from sklearn.datasets import load_boston\n",
    "\n",
    "boston = load_boston()\n",
    "X = boston.data\n",
    "y = boston.target"
   ]
  },
  {
   "cell_type": "code",
   "execution_count": 10,
   "metadata": {
    "collapsed": false
   },
   "outputs": [],
   "source": [
    "train_line = int(X.shape[0]*0.75)\n",
    "X_train = X[:train_line]\n",
    "y_train = y[:train_line]\n",
    "X_test = X[train_line:]\n",
    "y_test = y[train_line:]"
   ]
  },
  {
   "cell_type": "code",
   "execution_count": 38,
   "metadata": {
    "collapsed": true
   },
   "outputs": [],
   "source": [
    "from sklearn.tree import DecisionTreeRegressor\n",
    "\n",
    "coefficients_list = [0.9] * 50\n",
    "base_algorithms_list = []"
   ]
  },
  {
   "cell_type": "code",
   "execution_count": 39,
   "metadata": {
    "collapsed": true
   },
   "outputs": [],
   "source": [
    "def gbm_predict(X):\n",
    "    return [sum([coeff * algo.predict([x])[0] for algo, coeff in zip(base_algorithms_list, coefficients_list)]) for x in X]"
   ]
  },
  {
   "cell_type": "code",
   "execution_count": 40,
   "metadata": {
    "collapsed": false
   },
   "outputs": [],
   "source": [
    "from sklearn.metrics import mean_squared_error\n",
    "\n",
    "def gbm(X,y):\n",
    "    global base_algorithms_list\n",
    "    base_algorithms_list = []\n",
    "    s = y\n",
    "    for i in range(50):\n",
    "        base_algorithms_list.append(DecisionTreeRegressor(max_depth=5, random_state=42).fit(X, s))\n",
    "        predicts = gbm_predict(X)\n",
    "        s = -1 * (predicts - y)\n",
    "        error = mean_squared_error(predicts, y)\n",
    "        print(error)"
   ]
  },
  {
   "cell_type": "code",
   "execution_count": null,
   "metadata": {
    "collapsed": true
   },
   "outputs": [],
   "source": [
    "gbm(X_train, y_train)\n",
    "print(mean_squared_error(gbm_predict(X_test), y_test)**0.5)"
   ]
  },
  {
   "cell_type": "code",
   "execution_count": 37,
   "metadata": {
    "collapsed": false
   },
   "outputs": [
    {
     "name": "stdout",
     "output_type": "stream",
     "text": [
      "5.47665097417\n"
     ]
    }
   ],
   "source": [
    "print(mean_squared_error(gbm_predict(X_test), y_test)**0.5)"
   ]
  },
  {
   "cell_type": "code",
   "execution_count": 42,
   "metadata": {
    "collapsed": false
   },
   "outputs": [
    {
     "name": "stdout",
     "output_type": "stream",
     "text": [
      "12.3316054571\n",
      "5.8568545205\n",
      "4.0249289832\n",
      "3.2589547135\n",
      "2.79920732731\n",
      "2.42557271495\n",
      "2.17923954853\n",
      "1.99310963953\n",
      "1.81997122745\n",
      "1.69904004919\n",
      "1.59965680637\n",
      "1.54254470218\n",
      "1.4885073503\n",
      "1.42238975132\n",
      "1.38548754083\n",
      "1.34520721283\n",
      "1.29612954792\n",
      "1.25771515481\n",
      "1.23050505105\n",
      "1.18953434766\n",
      "1.15385720628\n",
      "1.12294560266\n",
      "1.10752327878\n",
      "1.09359887961\n",
      "1.07229072557\n",
      "1.05962184512\n",
      "1.04744645412\n",
      "1.03649166421\n",
      "1.01618224509\n",
      "1.00674838324\n",
      "0.998123470384\n",
      "0.989835992345\n",
      "0.972452479585\n",
      "0.959753999767\n",
      "0.95413677356\n",
      "0.946305487211\n",
      "0.938536841168\n",
      "0.93232073815\n",
      "0.925485500111\n",
      "0.916617903505\n",
      "0.912250204596\n",
      "0.902689066899\n",
      "0.89768895549\n",
      "0.893822958344\n",
      "0.886031171787\n",
      "0.880207603003\n",
      "0.875668464505\n",
      "0.870980370041\n",
      "0.865760956599\n",
      "0.8616783622\n",
      "4.81089328026\n"
     ]
    }
   ],
   "source": [
    "coefficients_list = [0.9/(1.0 + i) for i in range(50)]\n",
    "\n",
    "gbm(X_train, y_train)\n",
    "print(mean_squared_error(gbm_predict(X_test), y_test)**0.5)"
   ]
  },
  {
   "cell_type": "code",
   "execution_count": 44,
   "metadata": {
    "collapsed": false
   },
   "outputs": [
    {
     "name": "stdout",
     "output_type": "stream",
     "text": [
      "8.27046803494\n"
     ]
    }
   ],
   "source": [
    "from sklearn.linear_model import LinearRegression\n",
    "\n",
    "clf = LinearRegression()\n",
    "clf.fit(X_train, y_train)\n",
    "print(mean_squared_error(clf.predict(X_test), y_test)**0.5)"
   ]
  },
  {
   "cell_type": "code",
   "execution_count": null,
   "metadata": {
    "collapsed": true
   },
   "outputs": [],
   "source": []
  }
 ],
 "metadata": {
  "kernelspec": {
   "display_name": "Python 2",
   "language": "python",
   "name": "python2"
  },
  "language_info": {
   "codemirror_mode": {
    "name": "ipython",
    "version": 2
   },
   "file_extension": ".py",
   "mimetype": "text/x-python",
   "name": "python",
   "nbconvert_exporter": "python",
   "pygments_lexer": "ipython2",
   "version": "2.7.11+"
  }
 },
 "nbformat": 4,
 "nbformat_minor": 0
}
