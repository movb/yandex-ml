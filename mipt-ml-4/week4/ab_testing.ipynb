{
 "cells": [
  {
   "cell_type": "code",
   "execution_count": 38,
   "metadata": {
    "collapsed": false
   },
   "outputs": [
    {
     "name": "stdout",
     "output_type": "stream",
     "text": [
      "Populating the interactive namespace from numpy and matplotlib\n"
     ]
    }
   ],
   "source": [
    "import pandas as pd\n",
    "import numpy as np\n",
    "import scipy\n",
    "import math\n",
    "\n",
    "from scipy.stats import pearsonr, mannwhitneyu\n",
    "from statsmodels.sandbox.stats.multicomp import multipletests \n",
    "\n",
    "%pylab inline"
   ]
  },
  {
   "cell_type": "code",
   "execution_count": 2,
   "metadata": {
    "collapsed": true
   },
   "outputs": [],
   "source": [
    "data = pd.read_csv('ab_browser_test.csv')"
   ]
  },
  {
   "cell_type": "code",
   "execution_count": 3,
   "metadata": {
    "collapsed": false
   },
   "outputs": [
    {
     "data": {
      "text/html": [
       "<div>\n",
       "<table border=\"1\" class=\"dataframe\">\n",
       "  <thead>\n",
       "    <tr style=\"text-align: right;\">\n",
       "      <th></th>\n",
       "      <th>userID</th>\n",
       "      <th>browser</th>\n",
       "      <th>slot</th>\n",
       "      <th>n_clicks</th>\n",
       "      <th>n_queries</th>\n",
       "      <th>n_nonclk_queries</th>\n",
       "    </tr>\n",
       "  </thead>\n",
       "  <tbody>\n",
       "    <tr>\n",
       "      <th>0</th>\n",
       "      <td>1</td>\n",
       "      <td>Browser #2</td>\n",
       "      <td>exp</td>\n",
       "      <td>23</td>\n",
       "      <td>32</td>\n",
       "      <td>19</td>\n",
       "    </tr>\n",
       "    <tr>\n",
       "      <th>1</th>\n",
       "      <td>3</td>\n",
       "      <td>Browser #4</td>\n",
       "      <td>exp</td>\n",
       "      <td>3</td>\n",
       "      <td>4</td>\n",
       "      <td>2</td>\n",
       "    </tr>\n",
       "    <tr>\n",
       "      <th>2</th>\n",
       "      <td>5</td>\n",
       "      <td>Browser #4</td>\n",
       "      <td>exp</td>\n",
       "      <td>29</td>\n",
       "      <td>35</td>\n",
       "      <td>16</td>\n",
       "    </tr>\n",
       "    <tr>\n",
       "      <th>3</th>\n",
       "      <td>6</td>\n",
       "      <td>Browser #4</td>\n",
       "      <td>control</td>\n",
       "      <td>12</td>\n",
       "      <td>6</td>\n",
       "      <td>0</td>\n",
       "    </tr>\n",
       "    <tr>\n",
       "      <th>4</th>\n",
       "      <td>7</td>\n",
       "      <td>Browser #4</td>\n",
       "      <td>exp</td>\n",
       "      <td>54</td>\n",
       "      <td>68</td>\n",
       "      <td>30</td>\n",
       "    </tr>\n",
       "  </tbody>\n",
       "</table>\n",
       "</div>"
      ],
      "text/plain": [
       "   userID     browser     slot  n_clicks  n_queries  n_nonclk_queries\n",
       "0       1  Browser #2      exp        23         32                19\n",
       "1       3  Browser #4      exp         3          4                 2\n",
       "2       5  Browser #4      exp        29         35                16\n",
       "3       6  Browser #4  control        12          6                 0\n",
       "4       7  Browser #4      exp        54         68                30"
      ]
     },
     "execution_count": 3,
     "metadata": {},
     "output_type": "execute_result"
    }
   ],
   "source": [
    "data.head()"
   ]
  },
  {
   "cell_type": "code",
   "execution_count": 4,
   "metadata": {
    "collapsed": false
   },
   "outputs": [
    {
     "name": "stdout",
     "output_type": "stream",
     "text": [
      "1.614\n"
     ]
    }
   ],
   "source": [
    "exp_clicks = np.sum(data[data.slot == 'exp'].n_clicks)\n",
    "ctrl_clicks = np.sum(data[data.slot == 'control'].n_clicks)\n",
    "print(\"{0:.3f}\".format(float(exp_clicks - ctrl_clicks) / ctrl_clicks *100))"
   ]
  },
  {
   "cell_type": "code",
   "execution_count": 5,
   "metadata": {
    "collapsed": true
   },
   "outputs": [],
   "source": [
    "# Q1 - 1.614"
   ]
  },
  {
   "cell_type": "code",
   "execution_count": 6,
   "metadata": {
    "collapsed": true
   },
   "outputs": [],
   "source": [
    "def get_bootstrap_samples(data, n_samples):\n",
    "    indices = np.random.randint(0, len(data), (n_samples, len(data)))\n",
    "    samples = data[indices]\n",
    "    return samples"
   ]
  },
  {
   "cell_type": "code",
   "execution_count": 7,
   "metadata": {
    "collapsed": true
   },
   "outputs": [],
   "source": [
    "def stat_intervals(stat, alpha):\n",
    "    boundaries = np.percentile(stat, [100 * alpha / 2., 100 * (1 - alpha / 2.)])\n",
    "    return boundaries"
   ]
  },
  {
   "cell_type": "code",
   "execution_count": 8,
   "metadata": {
    "collapsed": true
   },
   "outputs": [],
   "source": [
    "exp_clicks = data[data.slot == 'exp'].n_clicks.values\n",
    "ctrl_clicks = data[data.slot == 'control'].n_clicks.values"
   ]
  },
  {
   "cell_type": "code",
   "execution_count": 9,
   "metadata": {
    "collapsed": false
   },
   "outputs": [],
   "source": [
    "np.random.seed(0)\n",
    "\n",
    "exp_clicks_scores = np.array(list(map(np.mean, get_bootstrap_samples(exp_clicks, 1000))))\n",
    "ctrl_clicks_scores = np.array(list(map(np.mean, get_bootstrap_samples(ctrl_clicks, 1000))))\n",
    "\n",
    "means_diff = exp_clicks_scores - ctrl_clicks_scores"
   ]
  },
  {
   "cell_type": "code",
   "execution_count": 10,
   "metadata": {
    "collapsed": false
   },
   "outputs": [
    {
     "name": "stdout",
     "output_type": "stream",
     "text": [
      "95% confidence interval for the mean:  [ 0.19172563  0.40475697]\n"
     ]
    }
   ],
   "source": [
    "print(\"95% confidence interval for the mean: \",  stat_intervals(means_diff, 0.05))"
   ]
  },
  {
   "cell_type": "code",
   "execution_count": 11,
   "metadata": {
    "collapsed": true
   },
   "outputs": [],
   "source": [
    "np.random.seed(0)\n",
    "\n",
    "exp_clicks_scores = np.array(list(map(np.median, get_bootstrap_samples(exp_clicks, 1000))))\n",
    "ctrl_clicks_scores = np.array(list(map(np.median, get_bootstrap_samples(ctrl_clicks, 1000))))\n",
    "\n",
    "medians_diff = exp_clicks_scores - ctrl_clicks_scores"
   ]
  },
  {
   "cell_type": "code",
   "execution_count": 12,
   "metadata": {
    "collapsed": false
   },
   "outputs": [
    {
     "name": "stdout",
     "output_type": "stream",
     "text": [
      "95% confidence interval for the median:  [ 1.  1.]\n"
     ]
    }
   ],
   "source": [
    "print(\"95% confidence interval for the median: \",  stat_intervals(medians_diff, 0.05))"
   ]
  },
  {
   "cell_type": "code",
   "execution_count": 13,
   "metadata": {
    "collapsed": true
   },
   "outputs": [],
   "source": [
    "np.random.seed(0)\n",
    "n_boot_samples = 500"
   ]
  },
  {
   "cell_type": "code",
   "execution_count": 14,
   "metadata": {
    "collapsed": true
   },
   "outputs": [],
   "source": [
    "ctrl_samples = get_bootstrap_samples(ctrl_clicks, n_boot_samples)"
   ]
  },
  {
   "cell_type": "code",
   "execution_count": 15,
   "metadata": {
    "collapsed": true
   },
   "outputs": [],
   "source": [
    "ctrl_samples_means = np.mean(ctrl_samples,axis=1)"
   ]
  },
  {
   "cell_type": "code",
   "execution_count": 20,
   "metadata": {
    "collapsed": false
   },
   "outputs": [],
   "source": [
    "control_boot_chi_squared = np.sum(np.square((ctrl_samples - ctrl_samples_means[:, np.newaxis])),axis=1)"
   ]
  },
  {
   "cell_type": "code",
   "execution_count": 27,
   "metadata": {
    "collapsed": false
   },
   "outputs": [
    {
     "data": {
      "text/plain": [
       "((array([ 284550.00790142,  284550.28984073,  284550.44837459,\n",
       "          284550.56078615,  284550.64886689,  284550.72177909,\n",
       "          284550.78427733,  284550.83915848,  284550.88821233,\n",
       "          284550.93265597,  284550.97335597,  284551.01095206,\n",
       "          284551.04593046,  284551.07866967,  284551.10947035,\n",
       "          284551.13857541,  284551.16618407,  284551.1924618 ,\n",
       "          284551.2175476 ,  284551.24155939,  284551.26459814,\n",
       "          284551.28675096,  284551.30809357,  284551.3286922 ,\n",
       "          284551.34860517,  284551.36788405,  284551.38657472,\n",
       "          284551.40471817,  284551.42235117,  284551.43950686,\n",
       "          284551.45621519,  284551.47250333,  284551.48839601,\n",
       "          284551.50391582,  284551.51908341,  284551.53391776,\n",
       "          284551.54843633,  284551.56265521,  284551.57658929,\n",
       "          284551.59025236,  284551.60365721,  284551.61681574,\n",
       "          284551.62973905,  284551.64243747,  284551.65492068,\n",
       "          284551.66719774,  284551.67927713,  284551.69116683,\n",
       "          284551.70287433,  284551.71440669,  284551.72577056,\n",
       "          284551.73697222,  284551.74801761,  284551.75891232,\n",
       "          284551.76966169,  284551.78027074,  284551.79074426,\n",
       "          284551.80108678,  284551.81130262,  284551.82139589,\n",
       "          284551.8313705 ,  284551.84123017,  284551.85097846,\n",
       "          284551.86061877,  284551.87015434,  284551.87958827,\n",
       "          284551.88892352,  284551.89816293,  284551.90730923,\n",
       "          284551.91636502,  284551.92533281,  284551.93421499,\n",
       "          284551.94301388,  284551.95173169,  284551.96037054,\n",
       "          284551.9689325 ,  284551.97741954,  284551.98583355,\n",
       "          284551.99417636,  284552.00244975,  284552.01065542,\n",
       "          284552.018795  ,  284552.0268701 ,  284552.03488223,\n",
       "          284552.04283288,  284552.05072347,  284552.05855541,\n",
       "          284552.06633002,  284552.0740486 ,  284552.0817124 ,\n",
       "          284552.08932265,  284552.09688051,  284552.10438714,\n",
       "          284552.11184363,  284552.11925107,  284552.1266105 ,\n",
       "          284552.13392292,  284552.14118932,  284552.14841066,\n",
       "          284552.15558786,  284552.16272182,  284552.16981342,\n",
       "          284552.17686352,  284552.18387294,  284552.19084249,\n",
       "          284552.19777295,  284552.20466509,  284552.21151966,\n",
       "          284552.21833739,  284552.22511897,  284552.2318651 ,\n",
       "          284552.23857645,  284552.24525368,  284552.25189743,\n",
       "          284552.25850831,  284552.26508696,  284552.27163394,\n",
       "          284552.27814986,  284552.28463527,  284552.29109073,\n",
       "          284552.29751678,  284552.30391396,  284552.31028277,\n",
       "          284552.31662373,  284552.32293733,  284552.32922406,\n",
       "          284552.33548438,  284552.34171877,  284552.34792768,\n",
       "          284552.35411155,  284552.36027083,  284552.36640592,\n",
       "          284552.37251726,  284552.37860526,  284552.38467031,\n",
       "          284552.39071281,  284552.39673314,  284552.40273169,\n",
       "          284552.40870883,  284552.41466491,  284552.4206003 ,\n",
       "          284552.42651535,  284552.4324104 ,  284552.43828579,\n",
       "          284552.44414186,  284552.44997892,  284552.45579731,\n",
       "          284552.46159733,  284552.46737929,  284552.4731435 ,\n",
       "          284552.47889026,  284552.48461986,  284552.4903326 ,\n",
       "          284552.49602874,  284552.50170858,  284552.50737239,\n",
       "          284552.51302045,  284552.51865301,  284552.52427034,\n",
       "          284552.5298727 ,  284552.53546034,  284552.54103351,\n",
       "          284552.54659247,  284552.55213745,  284552.55766869,\n",
       "          284552.56318643,  284552.56869091,  284552.57418235,\n",
       "          284552.57966098,  284552.58512702,  284552.59058069,\n",
       "          284552.59602221,  284552.6014518 ,  284552.60686966,\n",
       "          284552.61227601,  284552.61767105,  284552.62305498,\n",
       "          284552.62842801,  284552.63379033,  284552.63914214,\n",
       "          284552.64448364,  284552.64981501,  284552.65513645,\n",
       "          284552.66044814,  284552.66575027,  284552.67104302,\n",
       "          284552.67632656,  284552.68160109,  284552.68686678,\n",
       "          284552.69212379,  284552.69737231,  284552.70261251,\n",
       "          284552.70784456,  284552.71306862,  284552.71828486,\n",
       "          284552.72349344,  284552.72869454,  284552.7338883 ,\n",
       "          284552.7390749 ,  284552.74425449,  284552.74942723,\n",
       "          284552.75459327,  284552.75975277,  284552.76490588,\n",
       "          284552.77005275,  284552.77519355,  284552.7803284 ,\n",
       "          284552.78545748,  284552.79058091,  284552.79569885,\n",
       "          284552.80081145,  284552.80591885,  284552.81102118,\n",
       "          284552.81611861,  284552.82121126,  284552.82629927,\n",
       "          284552.8313828 ,  284552.83646197,  284552.84153692,\n",
       "          284552.8466078 ,  284552.85167473,  284552.85673787,\n",
       "          284552.86179733,  284552.86685325,  284552.87190577,\n",
       "          284552.87695503,  284552.88200115,  284552.88704427,\n",
       "          284552.89208452,  284552.89712202,  284552.90215692,\n",
       "          284552.90718934,  284552.91221941,  284552.91724726,\n",
       "          284552.92227301,  284552.92729681,  284552.93231877,\n",
       "          284552.93733902,  284552.9423577 ,  284552.94737492,\n",
       "          284552.95239083,  284552.95740553,  284552.96241916,\n",
       "          284552.96743185,  284552.97244372,  284552.97745489,\n",
       "          284552.9824655 ,  284552.98747567,  284552.99248553,\n",
       "          284552.9974952 ,  284553.0025048 ,  284553.00751447,\n",
       "          284553.01252433,  284553.0175345 ,  284553.02254511,\n",
       "          284553.02755628,  284553.03256815,  284553.03758084,\n",
       "          284553.04259447,  284553.04760917,  284553.05262508,\n",
       "          284553.0576423 ,  284553.06266098,  284553.06768123,\n",
       "          284553.07270319,  284553.07772699,  284553.08275274,\n",
       "          284553.08778059,  284553.09281066,  284553.09784308,\n",
       "          284553.10287798,  284553.10791548,  284553.11295573,\n",
       "          284553.11799885,  284553.12304497,  284553.12809423,\n",
       "          284553.13314675,  284553.13820267,  284553.14326213,\n",
       "          284553.14832527,  284553.1533922 ,  284553.15846308,\n",
       "          284553.16353803,  284553.1686172 ,  284553.17370073,\n",
       "          284553.17878874,  284553.18388139,  284553.18897882,\n",
       "          284553.19408115,  284553.19918855,  284553.20430115,\n",
       "          284553.20941909,  284553.21454252,  284553.2196716 ,\n",
       "          284553.22480645,  284553.22994725,  284553.23509412,\n",
       "          284553.24024723,  284553.24540673,  284553.25057277,\n",
       "          284553.25574551,  284553.2609251 ,  284553.2661117 ,\n",
       "          284553.27130546,  284553.27650656,  284553.28171514,\n",
       "          284553.28693138,  284553.29215544,  284553.29738749,\n",
       "          284553.30262769,  284553.30787621,  284553.31313322,\n",
       "          284553.31839891,  284553.32367344,  284553.32895698,\n",
       "          284553.33424973,  284553.33955186,  284553.34486355,\n",
       "          284553.35018499,  284553.35551636,  284553.36085786,\n",
       "          284553.36620967,  284553.37157199,  284553.37694502,\n",
       "          284553.38232895,  284553.38772399,  284553.39313034,\n",
       "          284553.3985482 ,  284553.40397779,  284553.40941931,\n",
       "          284553.41487298,  284553.42033902,  284553.42581765,\n",
       "          284553.43130909,  284553.43681357,  284553.44233131,\n",
       "          284553.44786255,  284553.45340753,  284553.45896649,\n",
       "          284553.46453966,  284553.4701273 ,  284553.47572966,\n",
       "          284553.48134699,  284553.48697955,  284553.49262761,\n",
       "          284553.49829142,  284553.50397126,  284553.5096674 ,\n",
       "          284553.51538014,  284553.52110974,  284553.5268565 ,\n",
       "          284553.53262071,  284553.53840267,  284553.54420269,\n",
       "          284553.55002108,  284553.55585814,  284553.56171421,\n",
       "          284553.5675896 ,  284553.57348465,  284553.5793997 ,\n",
       "          284553.58533509,  284553.59129117,  284553.59726831,\n",
       "          284553.60326686,  284553.60928719,  284553.61532969,\n",
       "          284553.62139474,  284553.62748274,  284553.63359408,\n",
       "          284553.63972917,  284553.64588845,  284553.65207232,\n",
       "          284553.65828123,  284553.66451562,  284553.67077594,\n",
       "          284553.67706267,  284553.68337627,  284553.68971723,\n",
       "          284553.69608604,  284553.70248322,  284553.70890927,\n",
       "          284553.71536473,  284553.72185014,  284553.72836606,\n",
       "          284553.73491304,  284553.74149169,  284553.74810257,\n",
       "          284553.75474632,  284553.76142355,  284553.7681349 ,\n",
       "          284553.77488103,  284553.78166261,  284553.78848034,\n",
       "          284553.79533491,  284553.80222705,  284553.80915751,\n",
       "          284553.81612706,  284553.82313648,  284553.83018658,\n",
       "          284553.83727818,  284553.84441214,  284553.85158934,\n",
       "          284553.85881068,  284553.86607708,  284553.8733895 ,\n",
       "          284553.88074893,  284553.88815637,  284553.89561286,\n",
       "          284553.90311949,  284553.91067735,  284553.9182876 ,\n",
       "          284553.9259514 ,  284553.93366998,  284553.94144459,\n",
       "          284553.94927653,  284553.95716712,  284553.96511777,\n",
       "          284553.9731299 ,  284553.981205  ,  284553.98934458,\n",
       "          284553.99755025,  284554.00582364,  284554.01416645,\n",
       "          284554.02258046,  284554.0310675 ,  284554.03962946,\n",
       "          284554.04826831,  284554.05698612,  284554.06578501,\n",
       "          284554.07466719,  284554.08363498,  284554.09269077,\n",
       "          284554.10183707,  284554.11107648,  284554.12041173,\n",
       "          284554.12984566,  284554.13938123,  284554.14902154,\n",
       "          284554.15876983,  284554.1686295 ,  284554.17860411,\n",
       "          284554.18869738,  284554.19891322,  284554.20925574,\n",
       "          284554.21972926,  284554.23033831,  284554.24108768,\n",
       "          284554.25198239,  284554.26302778,  284554.27422944,\n",
       "          284554.28559331,  284554.29712567,  284554.30883317,\n",
       "          284554.32072287,  284554.33280226,  284554.34507932,\n",
       "          284554.35756253,  284554.37026095,  284554.38318426,\n",
       "          284554.39634279,  284554.40974764,  284554.42341071,\n",
       "          284554.43734479,  284554.45156367,  284554.46608224,\n",
       "          284554.48091659,  284554.49608418,  284554.51160399,\n",
       "          284554.52749667,  284554.54378481,  284554.56049314,\n",
       "          284554.57764883,  284554.59528183,  284554.61342528,\n",
       "          284554.63211595,  284554.65139483,  284554.6713078 ,\n",
       "          284554.69190643,  284554.71324904,  284554.73540186,\n",
       "          284554.75844061,  284554.7824524 ,  284554.8075382 ,\n",
       "          284554.83381593,  284554.86142459,  284554.89052965,\n",
       "          284554.92133033,  284554.95406954,  284554.98904794,\n",
       "          284555.02664403,  284555.06734403,  284555.11178767,\n",
       "          284555.16084152,  284555.21572267,  284555.27822091,\n",
       "          284555.35113311,  284555.43921385,  284555.55162541,\n",
       "          284555.71015927,  284555.99209858]),\n",
       "  array([ 11.1824434 ,  11.18473822,  11.18830521,  11.19382261,\n",
       "          11.20258369,  11.20325492,  11.20355363,  11.20505423,\n",
       "          11.20609094,  11.20625611,  11.2079043 ,  11.21138343,\n",
       "          11.21287699,  11.21341468,  11.2142827 ,  11.21573761,\n",
       "          11.21579735,  11.21644749,  11.21674621,  11.21906563,\n",
       "          11.21948031,  11.21979308,  11.22034833,  11.22213007,\n",
       "          11.22245338,  11.22327924,  11.22662131,  11.22713439,\n",
       "          11.22731011,  11.22771776,  11.22815002,  11.22822382,\n",
       "          11.2283187 ,  11.22885287,  11.22957681,  11.22997744,\n",
       "          11.23038158,  11.23081032,  11.23154129,  11.23157292,\n",
       "          11.23189623,  11.23309108,  11.23465845,  11.23483065,\n",
       "          11.23608524,  11.23640153,  11.23664401,  11.23698138,\n",
       "          11.23704112,  11.23742769,  11.23755772,  11.23802863,\n",
       "          11.23852766,  11.23865417,  11.23902669,  11.23916726,\n",
       "          11.23991228,  11.23992283,  11.24141639,  11.24158508,\n",
       "          11.24160968,  11.24163779,  11.24169753,  11.24231605,\n",
       "          11.24278344,  11.24281859,  11.24329653,  11.24353901,\n",
       "          11.24396424,  11.24425592,  11.24438244,  11.24446327,\n",
       "          11.24460384,  11.24470224,  11.24473035,  11.24482172,\n",
       "          11.24492715,  11.24534183,  11.24545078,  11.24585492,\n",
       "          11.24586195,  11.24649803,  11.24708843,  11.2472782 ,\n",
       "          11.24735551,  11.24748202,  11.2476472 ,  11.24791779,\n",
       "          11.24809351,  11.24811811,  11.24844845,  11.24918996,\n",
       "          11.2492497 ,  11.2493727 ,  11.25008259,  11.25017747,\n",
       "          11.25060621,  11.25065541,  11.25088735,  11.2511193 ,\n",
       "          11.25147775,  11.25171321,  11.25188541,  11.25189244,\n",
       "          11.25201895,  11.25222981,  11.25248986,  11.25299943,\n",
       "          11.25305566,  11.25328409,  11.25384637,  11.25398343,\n",
       "          11.2544684 ,  11.25458085,  11.25487605,  11.25488659,\n",
       "          11.25505528,  11.25508691,  11.25525559,  11.25577219,\n",
       "          11.25590925,  11.25621147,  11.2565875 ,  11.25684404,\n",
       "          11.25686513,  11.25702679,  11.25707247,  11.2574977 ,\n",
       "          11.2575223 ,  11.25800024,  11.25810215,  11.25842898,\n",
       "          11.25844304,  11.25859415,  11.25865741,  11.25881555,\n",
       "          11.25891746,  11.25895964,  11.25947623,  11.25970466,\n",
       "          11.25977846,  11.25985577,  11.26035129,  11.2605024 ,\n",
       "          11.26053403,  11.26064649,  11.26068163,  11.26083977,\n",
       "          11.26097331,  11.2612896 ,  11.2613634 ,  11.26144071,\n",
       "          11.26180619,  11.26218222,  11.26227359,  11.26281479,\n",
       "          11.26318028,  11.26321893,  11.26322947,  11.26338762,\n",
       "          11.26359496,  11.26368633,  11.2644419 ,  11.26454381,\n",
       "          11.26457544,  11.2647617 ,  11.26483901,  11.26504284,\n",
       "          11.26541184,  11.26546455,  11.26611821,  11.26614281,\n",
       "          11.26634312,  11.26644152,  11.26677186,  11.26709869,\n",
       "          11.26725683,  11.26732009,  11.26743254,  11.26772071,\n",
       "          11.267791  ,  11.26825137,  11.26838843,  11.26864848,\n",
       "          11.26938648,  11.26955165,  11.26982225,  11.26989956,\n",
       "          11.27000499,  11.27000499,  11.2701069 ,  11.27039156,\n",
       "          11.27042319,  11.27065162,  11.27087302,  11.27089762,\n",
       "          11.2709679 ,  11.27140016,  11.27146341,  11.27182538,\n",
       "          11.2718535 ,  11.27223655,  11.27256338,  11.27274261,\n",
       "          11.27291481,  11.27308701,  11.27322758,  11.27336815,\n",
       "          11.27396909,  11.2742924 ,  11.27455597,  11.27467546,\n",
       "          11.27471411,  11.27503743,  11.27530451,  11.27552942,\n",
       "          11.27571217,  11.27575082,  11.27606359,  11.27607765,\n",
       "          11.27635879,  11.27653802,  11.27671373,  11.27682971,\n",
       "          11.27694568,  11.2769527 ,  11.2769773 ,  11.27720573,\n",
       "          11.27725142,  11.27727602,  11.27733927,  11.27770827,\n",
       "          11.2779121 ,  11.2780597 ,  11.27836544,  11.27838301,\n",
       "          11.27846033,  11.27860793,  11.27994686,  11.28058646,\n",
       "          11.28083246,  11.28117334,  11.2812612 ,  11.28151072,\n",
       "          11.28184106,  11.28203434,  11.28229088,  11.28238577,\n",
       "          11.28250877,  11.28252634,  11.28253688,  11.28272314,\n",
       "          11.28278991,  11.28314134,  11.28398828,  11.28416399,\n",
       "          11.28446973,  11.28469816,  11.28474033,  11.28484927,\n",
       "          11.2850285 ,  11.28556267,  11.28580515,  11.28592464,\n",
       "          11.2860125 ,  11.28606521,  11.28624444,  11.28626904,\n",
       "          11.2863077 ,  11.28664507,  11.28678915,  11.28686295,\n",
       "          11.28696838,  11.28699298,  11.28710895,  11.28711949,\n",
       "          11.28720735,  11.28752363,  11.28766772,  11.28801563,\n",
       "          11.28801915,  11.28806483,  11.28822649,  11.2882546 ,\n",
       "          11.28858143,  11.28905937,  11.28936863,  11.28947405,\n",
       "          11.28947405,  11.2894846 ,  11.29010311,  11.29016637,\n",
       "          11.29018042,  11.29076379,  11.29080245,  11.29098871,\n",
       "          11.29106602,  11.2914315 ,  11.29150179,  11.29210976,\n",
       "          11.29266853,  11.29273178,  11.29294967,  11.2932765 ,\n",
       "          11.29331515,  11.29344518,  11.29394069,  11.29416209,\n",
       "          11.29428158,  11.29433781,  11.29509689,  11.29521989,\n",
       "          11.29547994,  11.29560294,  11.29560294,  11.29567323,\n",
       "          11.29593329,  11.29605277,  11.29621091,  11.29674157,\n",
       "          11.29675211,  11.29711759,  11.29722302,  11.29742685,\n",
       "          11.29763068,  11.29792939,  11.29811565,  11.2981543 ,\n",
       "          11.29825973,  11.29829136,  11.29831596,  11.29833353,\n",
       "          11.29864279,  11.2987939 ,  11.29890284,  11.29922616,\n",
       "          11.29926833,  11.29961273,  11.29963381,  11.29964787,\n",
       "          11.29983413,  11.29996415,  11.30047021,  11.30052292,\n",
       "          11.30085678,  11.30089544,  11.30102546,  11.30107466,\n",
       "          11.30115198,  11.30138743,  11.30154558,  11.30205866,\n",
       "          11.30206217,  11.30224492,  11.30304968,  11.30406531,\n",
       "          11.30407234,  11.30417074,  11.30423399,  11.30444134,\n",
       "          11.30509851,  11.30533396,  11.30537613,  11.3056151 ,\n",
       "          11.30621253,  11.30638121,  11.3064023 ,  11.3066237 ,\n",
       "          11.3067467 ,  11.30696458,  11.30697513,  11.30702433,\n",
       "          11.30723167,  11.30758309,  11.30762527,  11.30769907,\n",
       "          11.30774827,  11.30777638,  11.30783261,  11.30794155,\n",
       "          11.30805401,  11.30807158,  11.30812781,  11.30849329,\n",
       "          11.30862683,  11.30909775,  11.30965652,  11.30980763,\n",
       "          11.30995171,  11.31005011,  11.31013094,  11.31022583,\n",
       "          11.31023988,  11.31073891,  11.31076702,  11.31091814,\n",
       "          11.31153665,  11.31211651,  11.3121903 ,  11.31226762,\n",
       "          11.31240116,  11.3129529 ,  11.3130759 ,  11.31313213,\n",
       "          11.31313213,  11.31350113,  11.31362061,  11.31378578,\n",
       "          11.31448864,  11.3145765 ,  11.31662532,  11.31675183,\n",
       "          11.3168432 ,  11.3173352 ,  11.31745117,  11.3177042 ,\n",
       "          11.31774285,  11.31789045,  11.31813997,  11.31905368,\n",
       "          11.31961947,  11.31993224,  11.32042424,  11.32091624,\n",
       "          11.3211517 ,  11.32129227,  11.3215207 ,  11.32158395,\n",
       "          11.32161558,  11.32216029,  11.32217786,  11.32259958,\n",
       "          11.323443  ,  11.32429697,  11.32484168,  11.32580811,\n",
       "          11.32588893,  11.32591002,  11.32596625,  11.32616305,\n",
       "          11.32656719,  11.32761444,  11.32796236,  11.32822593,\n",
       "          11.32949809,  11.3303134 ,  11.33039775,  11.33050669,\n",
       "          11.33194402,  11.33224977,  11.33308616,  11.33376442,\n",
       "          11.33431967,  11.33487844,  11.33491358,  11.33536341,\n",
       "          11.33593272,  11.33637552,  11.33695186,  11.33701863,\n",
       "          11.33731383,  11.337971  ,  11.33971408,  11.34042045,\n",
       "          11.34072267,  11.34170316,  11.34221624,  11.34325646,\n",
       "          11.34401203,  11.344128  ,  11.3461698 ,  11.34617682,\n",
       "          11.34640174,  11.34911476,  11.3497649 ,  11.34978598,\n",
       "          11.35071023,  11.3522776 ,  11.35456188,  11.35491682,\n",
       "          11.35499413,  11.35563021,  11.35623818,  11.35998088,\n",
       "          11.36001603,  11.36725542,  11.36806371,  11.36816211,\n",
       "          11.3690477 ,  11.37050261,  11.37085404,  11.37088215,\n",
       "          11.37353191,  11.37428748,  11.37443508,  11.37471271,\n",
       "          11.3776155 ,  11.37896849,  11.38956402,  11.39341215])),\n",
       " (0.037774667185668201, -10737.611627069065, 0.99797483646042617))"
      ]
     },
     "execution_count": 27,
     "metadata": {},
     "output_type": "execute_result"
    },
    {
     "data": {
      "image/png": "[encoded data removed]",
      "text/plain": [
       "<matplotlib.figure.Figure at 0x7f5b898ca7f0>"
      ]
     },
     "metadata": {},
     "output_type": "display_data"
    }
   ],
   "source": [
    "scipy.stats.probplot(ctrl_samples_means, sparams=(len(ctrl_clicks)-1), plot=plt)"
   ]
  },
  {
   "cell_type": "code",
   "execution_count": 26,
   "metadata": {
    "collapsed": false
   },
   "outputs": [
    {
     "data": {
      "text/plain": [
       "((array([ 282301.08823052,  282512.70968151,  282631.75042717,\n",
       "          282716.17888969,  282782.3450597 ,  282837.12445286,\n",
       "          282884.08540284,  282925.32718789,  282962.19330369,\n",
       "          282995.59740261,  283026.19007273,  283054.45161344,\n",
       "          283080.74708391,  283105.36069051,  283128.51819018,\n",
       "          283150.40200679,  283171.16173792,  283190.92164617,\n",
       "          283209.78611976,  283227.84373074,  283245.17030322,\n",
       "          283261.83126848,  283277.88349787,  283293.37674667,\n",
       "          283308.35480452,  283322.85642111,  283336.91605832,\n",
       "          283350.56450624,  283363.82939197,  283376.73560265,\n",
       "          283389.30563983,  283401.55991797,  283413.51701739,\n",
       "          283425.19389989,  283436.60609342,  283447.76785089,\n",
       "          283458.69228763,  283469.39150054,  283479.87667212,\n",
       "          283490.1581613 ,  283500.24558336,  283510.1478802 ,\n",
       "          283519.87338258,  283529.42986513,  283538.82459547,\n",
       "          283548.06437779,  283557.15559197,  283566.10422857,\n",
       "          283574.91592026,  283583.59597014,  283592.14937729,\n",
       "          283600.58085989,  283608.89487613,  283617.09564327,\n",
       "          283625.18715487,  283633.17319664,  283641.05736073,\n",
       "          283648.84305896,  283656.53353485,  283664.13187467,\n",
       "          283671.64101759,  283679.06376506,  283686.40278937,\n",
       "          283693.66064164,  283700.83975913,  283707.94247203,\n",
       "          283714.97100975,  283721.92750678,  283728.81400805,\n",
       "          283735.63247398,  283742.38478517,  283749.07274675,\n",
       "          283755.69809245,  283762.26248835,  283768.7675365 ,\n",
       "          283775.21477815,  283781.6056969 ,  283787.94172159,\n",
       "          283794.22422902,  283800.45454649,  283806.63395424,\n",
       "          283812.76368764,  283818.84493939,  283824.87886143,\n",
       "          283830.86656689,  283836.80913182,  283842.70759689,\n",
       "          283848.56296894,  283854.37622248,  283860.14830114,\n",
       "          283865.88011892,  283871.57256154,  283877.22648757,\n",
       "          283882.84272959,  283888.42209528,  283893.96536839,\n",
       "          283899.47330977,  283904.94665822,  283910.38613142,\n",
       "          283915.79242674,  283921.16622202,  283926.50817633,\n",
       "          283931.81893069,  283937.09910875,  283942.34931743,\n",
       "          283947.57014755,  283952.76217443,  283957.92595842,\n",
       "          283963.06204549,  283968.17096771,  283973.25324374,\n",
       "          283978.30937933,  283983.33986774,  283988.34519019,\n",
       "          283993.32581627,  283998.28220432,  284003.21480183,\n",
       "          284008.1240458 ,  284013.01036307,  284017.87417068,\n",
       "          284022.71587615,  284027.53587786,  284032.33456525,\n",
       "          284037.11231919,  284041.8695122 ,  284046.60650874,\n",
       "          284051.32366544,  284056.02133135,  284060.6998482 ,\n",
       "          284065.35955058,  284070.00076617,  284074.62381599,\n",
       "          284079.22901454,  284083.81667002,  284088.38708453,\n",
       "          284092.94055423,  284097.47736951,  284101.99781517,\n",
       "          284106.5021706 ,  284110.9907099 ,  284115.46370202,\n",
       "          284119.92141097,  284124.3640959 ,  284128.79201125,\n",
       "          284133.20540691,  284137.6045283 ,  284141.98961654,\n",
       "          284146.36090853,  284150.71863708,  284155.06303103,\n",
       "          284159.39431535,  284163.71271124,  284168.01843623,\n",
       "          284172.3117043 ,  284176.59272594,  284180.86170828,\n",
       "          284185.11885513,  284189.36436712,  284193.59844176,\n",
       "          284197.8212735 ,  284202.03305385,  284206.23397143,\n",
       "          284210.42421205,  284214.60395878,  284218.77339204,\n",
       "          284222.93268964,  284227.08202685,  284231.22157649,\n",
       "          284235.35150896,  284239.47199235,  284243.58319242,\n",
       "          284247.68527274,  284251.77839469,  284255.86271755,\n",
       "          284259.93839852,  284264.00559282,  284268.06445369,\n",
       "          284272.11513246,  284276.1577786 ,  284280.19253978,\n",
       "          284284.21956188,  284288.23898907,  284292.25096383,\n",
       "          284296.25562702,  284300.25311788,  284304.2435741 ,\n",
       "          284308.22713187,  284312.20392588,  284316.17408939,\n",
       "          284320.13775425,  284324.09505096,  284328.04610865,\n",
       "          284331.9910552 ,  284335.93001719,  284339.86311998,\n",
       "          284343.79048773,  284347.71224344,  284351.62850896,\n",
       "          284355.53940504,  284359.44505137,  284363.34556655,\n",
       "          284367.2410682 ,  284371.13167294,  284375.01749643,\n",
       "          284378.89865337,  284382.77525757,  284386.64742196,\n",
       "          284390.51525859,  284394.37887871,  284398.23839273,\n",
       "          284402.09391029,  284405.94554027,  284409.7933908 ,\n",
       "          284413.63756931,  284417.47818253,  284421.31533653,\n",
       "          284425.14913672,  284428.9796879 ,  284432.80709425,\n",
       "          284436.63145937,  284440.45288631,  284444.27147757,\n",
       "          284448.08733512,  284451.90056045,  284455.71125455,\n",
       "          284459.51951795,  284463.32545074,  284467.1291526 ,\n",
       "          284470.93072277,  284474.73026015,  284478.52786324,\n",
       "          284482.3236302 ,  284486.11765885,  284489.91004673,\n",
       "          284493.70089104,  284497.49028873,  284501.27833648,\n",
       "          284505.06513075,  284508.85076774,  284512.63534346,\n",
       "          284516.41895375,  284520.20169424,  284523.98366043,\n",
       "          284527.76494767,  284531.54565119,  284535.32586611,\n",
       "          284539.10568748,  284542.88521026,  284546.66452935,\n",
       "          284550.44373963,  284554.22293588,  284558.00221305,\n",
       "          284561.78166602,  284565.56138972,  284569.34147863,\n",
       "          284573.12202838,  284576.90313374,  284580.68488979,\n",
       "          284584.4673919 ,  284588.25073558,  284592.03501622,\n",
       "          284595.82032962,  284599.6067715 ,  284603.39443829,\n",
       "          284607.18342617,  284610.97383139,  284614.76575107,\n",
       "          284618.5592823 ,  284622.35452197,  284626.15156826,\n",
       "          284629.95051876,  284633.75147193,  284637.55452661,\n",
       "          284641.35978143,  284645.16733589,  284648.97729007,\n",
       "          284652.78974421,  284656.60479855,  284660.42255482,\n",
       "          284664.24311463,  284668.06657994,  284671.89305361,\n",
       "          284675.72263881,  284679.5554394 ,  284683.39155981,\n",
       "          284687.23110514,  284691.07418088,  284694.92089371,\n",
       "          284698.77135014,  284702.6256582 ,  284706.48392634,\n",
       "          284710.34626357,  284714.21277988,  284718.08358599,\n",
       "          284721.95879349,  284725.83851488,  284729.72286302,\n",
       "          284733.61195243,  284737.50589825,  284741.40481611,\n",
       "          284745.30882337,  284749.21803794,  284753.13257877,\n",
       "          284757.05256582,  284760.97812061,  284764.9093651 ,\n",
       "          284768.84642273,  284772.78941837,  284776.7384775 ,\n",
       "          284780.69372756,  284784.65529659,  284788.62331428,\n",
       "          284792.59791181,  284796.57922118,  284800.56737649,\n",
       "          284804.56251308,  284808.56476733,  284812.57427769,\n",
       "          284816.59118407,  284820.6156278 ,  284824.64775184,\n",
       "          284828.68770116,  284832.73562225,  284836.7916635 ,\n",
       "          284840.85597492,  284844.92870841,  284849.01001805,\n",
       "          284853.10006   ,  284857.19899184,  284861.30697355,\n",
       "          284865.42416761,  284869.55073798,  284873.68685152,\n",
       "          284877.83267696,  284881.98838561,  284886.15415097,\n",
       "          284890.33014955,  284894.51655955,  284898.71356263,\n",
       "          284902.92134273,  284907.1400865 ,  284911.36998361,\n",
       "          284915.6112265 ,  284919.86401081,  284924.12853475,\n",
       "          284928.40500036,  284932.69361222,  284936.99457869,\n",
       "          284941.30811142,  284945.63442553,  284949.97373971,\n",
       "          284954.32627647,  284958.69226171,  284963.07192596,\n",
       "          284967.46550303,  284971.87323122,  284976.29535295,\n",
       "          284980.73211511,  284985.1837689 ,  284989.65057038,\n",
       "          284994.13278007,  284998.63066342,  285003.14449101,\n",
       "          285007.67453884,  285012.22108735,  285016.78442333,\n",
       "          285021.36483892,  285025.96263192,  285030.5781063 ,\n",
       "          285035.21157217,  285039.8633456 ,  285044.53374988,\n",
       "          285049.22311467,  285053.93177624,  285058.66007876,\n",
       "          285063.40837335,  285068.17701866,  285072.96638148,\n",
       "          285077.77683692,  285082.60876777,  285087.46256607,\n",
       "          285092.33863283,  285097.237378  ,  285102.15922133,\n",
       "          285107.10459233,  285112.07393062,  285117.06768677,\n",
       "          285122.08632191,  285127.13030871,  285132.20013152,\n",
       "          285137.29628677,  285142.41928337,  285147.56964355,\n",
       "          285152.74790267,  285157.95461042,  285163.19033071,\n",
       "          285168.45564275,  285173.75114112,  285179.07743691,\n",
       "          285184.43515795,  285189.82494933,  285195.24747474,\n",
       "          285200.70341646,  285206.19347649,  285211.71837747,\n",
       "          285217.27886312,  285222.87569969,  285228.50967586,\n",
       "          285234.18160515,  285239.89232568,  285245.6427019 ,\n",
       "          285251.43362576,  285257.26601741,  285263.14082721,\n",
       "          285269.05903631,  285275.02165845,  285281.02974183,\n",
       "          285287.08436983,  285293.18666352,  285299.33778287,\n",
       "          285305.53892898,  285311.79134601,  285318.09632335,\n",
       "          285324.45519761,  285330.8693556 ,  285337.34023614,\n",
       "          285343.86933363,  285350.45820053,  285357.1084502 ,\n",
       "          285363.82176095,  285370.59987918,  285377.44462285,\n",
       "          285384.35788651,  285391.34164497,  285398.39795792,\n",
       "          285405.52897583,  285412.73694452,  285420.02421126,\n",
       "          285427.39323159,  285434.84657559,  285442.38693545,\n",
       "          285450.01713365,  285457.7401315 ,  285465.55903849,\n",
       "          285473.47712259,  285481.49782146,  285489.62475476,\n",
       "          285497.86173691,  285506.21279218,  285514.68217007,\n",
       "          285523.27436317,  285531.99412617,  285540.84649685,\n",
       "          285549.83681958,  285558.97077108,  285568.25438875,\n",
       "          285577.69410262,  285587.29677053,  285597.06971777,\n",
       "          285607.02078053,  285617.15835618,  285627.49145821,\n",
       "          285638.02977911,  285648.78376144,  285659.76467812,\n",
       "          285670.98472463,  285682.45712343,  285694.19624417,\n",
       "          285706.21774291,  285718.53872156,  285731.17791509,\n",
       "          285744.15590841,  285757.49539182,  285771.2214624 ,\n",
       "          285785.36198134,  285799.94800109,  285815.01427872,\n",
       "          285830.59989762,  285846.74902681,  285863.51185507,\n",
       "          285880.94575255,  285899.11672766,  285918.10127817,\n",
       "          285937.98876837,  285958.88452696,  285980.91394468,\n",
       "          286004.22798799,  286029.01076447,  286055.49013346,\n",
       "          286083.95297305,  286114.76781014,  286148.41955654,\n",
       "          286185.56512398,  286227.12716329,  286274.46259759,\n",
       "          286329.69203883,  286396.4207913 ,  286481.59729032,\n",
       "          286601.75026261,  286815.51529803]),\n",
       "  array([  1.11276100e+08,   1.11677927e+08,   1.12491442e+08,\n",
       "           1.12924611e+08,   1.13127983e+08,   1.13167873e+08,\n",
       "           1.13266786e+08,   1.13295691e+08,   1.13401009e+08,\n",
       "           1.13431054e+08,   1.13493185e+08,   1.13545075e+08,\n",
       "           1.13588846e+08,   1.13595367e+08,   1.13625657e+08,\n",
       "           1.13662340e+08,   1.13670977e+08,   1.13772630e+08,\n",
       "           1.13855433e+08,   1.13914044e+08,   1.13926432e+08,\n",
       "           1.13932874e+08,   1.13977613e+08,   1.13981671e+08,\n",
       "           1.14025501e+08,   1.14028770e+08,   1.14100078e+08,\n",
       "           1.14232529e+08,   1.14296170e+08,   1.14333545e+08,\n",
       "           1.14353775e+08,   1.14357992e+08,   1.14380341e+08,\n",
       "           1.14405106e+08,   1.14423274e+08,   1.14428981e+08,\n",
       "           1.14432969e+08,   1.14434662e+08,   1.14469300e+08,\n",
       "           1.14480234e+08,   1.14490648e+08,   1.14500707e+08,\n",
       "           1.14510200e+08,   1.14515920e+08,   1.14562459e+08,\n",
       "           1.14635836e+08,   1.14690490e+08,   1.14700993e+08,\n",
       "           1.14704999e+08,   1.14705420e+08,   1.14721317e+08,\n",
       "           1.14727352e+08,   1.14732085e+08,   1.14737934e+08,\n",
       "           1.14764710e+08,   1.14774611e+08,   1.14824593e+08,\n",
       "           1.14845664e+08,   1.14846925e+08,   1.14854475e+08,\n",
       "           1.14859960e+08,   1.14863162e+08,   1.14885028e+08,\n",
       "           1.14897338e+08,   1.14948089e+08,   1.14956465e+08,\n",
       "           1.14963838e+08,   1.15016551e+08,   1.15038822e+08,\n",
       "           1.15050414e+08,   1.15065784e+08,   1.15090459e+08,\n",
       "           1.15091661e+08,   1.15097158e+08,   1.15116338e+08,\n",
       "           1.15140258e+08,   1.15141325e+08,   1.15190803e+08,\n",
       "           1.15231155e+08,   1.15308311e+08,   1.15320219e+08,\n",
       "           1.15321525e+08,   1.15332200e+08,   1.15341071e+08,\n",
       "           1.15348431e+08,   1.15353328e+08,   1.15383765e+08,\n",
       "           1.15390144e+08,   1.15393840e+08,   1.15406131e+08,\n",
       "           1.15407403e+08,   1.15417588e+08,   1.15471348e+08,\n",
       "           1.15492219e+08,   1.15495630e+08,   1.15514074e+08,\n",
       "           1.15574644e+08,   1.15581803e+08,   1.15583377e+08,\n",
       "           1.15589259e+08,   1.15611351e+08,   1.15640052e+08,\n",
       "           1.15657465e+08,   1.15666547e+08,   1.15679535e+08,\n",
       "           1.15685428e+08,   1.15688743e+08,   1.15692124e+08,\n",
       "           1.15712624e+08,   1.15713687e+08,   1.15720547e+08,\n",
       "           1.15739811e+08,   1.15756102e+08,   1.15761109e+08,\n",
       "           1.15779448e+08,   1.15779449e+08,   1.15798065e+08,\n",
       "           1.15803022e+08,   1.15808169e+08,   1.15823926e+08,\n",
       "           1.15847013e+08,   1.15847681e+08,   1.15874199e+08,\n",
       "           1.15878721e+08,   1.15885044e+08,   1.15912211e+08,\n",
       "           1.15917819e+08,   1.15926686e+08,   1.15933788e+08,\n",
       "           1.15934064e+08,   1.15945196e+08,   1.15952585e+08,\n",
       "           1.15980855e+08,   1.16005240e+08,   1.16005714e+08,\n",
       "           1.16017348e+08,   1.16038964e+08,   1.16055836e+08,\n",
       "           1.16059527e+08,   1.16063200e+08,   1.16089175e+08,\n",
       "           1.16107651e+08,   1.16108574e+08,   1.16111742e+08,\n",
       "           1.16112673e+08,   1.16136266e+08,   1.16148916e+08,\n",
       "           1.16164659e+08,   1.16168330e+08,   1.16168617e+08,\n",
       "           1.16178234e+08,   1.16189378e+08,   1.16191726e+08,\n",
       "           1.16193484e+08,   1.16199367e+08,   1.16200811e+08,\n",
       "           1.16204260e+08,   1.16217615e+08,   1.16220758e+08,\n",
       "           1.16224013e+08,   1.16224902e+08,   1.16229138e+08,\n",
       "           1.16237188e+08,   1.16254150e+08,   1.16261971e+08,\n",
       "           1.16276027e+08,   1.16293454e+08,   1.16294021e+08,\n",
       "           1.16296179e+08,   1.16301153e+08,   1.16305144e+08,\n",
       "           1.16332070e+08,   1.16339854e+08,   1.16350836e+08,\n",
       "           1.16374853e+08,   1.16382259e+08,   1.16405624e+08,\n",
       "           1.16434232e+08,   1.16436702e+08,   1.16443483e+08,\n",
       "           1.16443596e+08,   1.16471131e+08,   1.16491126e+08,\n",
       "           1.16493178e+08,   1.16509942e+08,   1.16511364e+08,\n",
       "           1.16514009e+08,   1.16521601e+08,   1.16529988e+08,\n",
       "           1.16533563e+08,   1.16533773e+08,   1.16543123e+08,\n",
       "           1.16546544e+08,   1.16555086e+08,   1.16556758e+08,\n",
       "           1.16577653e+08,   1.16579923e+08,   1.16582930e+08,\n",
       "           1.16587377e+08,   1.16593431e+08,   1.16608158e+08,\n",
       "           1.16639237e+08,   1.16662741e+08,   1.16666098e+08,\n",
       "           1.16667036e+08,   1.16671412e+08,   1.16689581e+08,\n",
       "           1.16732404e+08,   1.16757644e+08,   1.16765806e+08,\n",
       "           1.16767993e+08,   1.16773500e+08,   1.16773875e+08,\n",
       "           1.16774081e+08,   1.16779214e+08,   1.16788187e+08,\n",
       "           1.16805575e+08,   1.16811350e+08,   1.16820673e+08,\n",
       "           1.16844846e+08,   1.16854043e+08,   1.16854460e+08,\n",
       "           1.16861140e+08,   1.16865797e+08,   1.16865944e+08,\n",
       "           1.16870909e+08,   1.16875284e+08,   1.16875401e+08,\n",
       "           1.16899422e+08,   1.16918391e+08,   1.16942504e+08,\n",
       "           1.16954965e+08,   1.16963650e+08,   1.16964745e+08,\n",
       "           1.16970915e+08,   1.16984450e+08,   1.16985182e+08,\n",
       "           1.17004122e+08,   1.17015529e+08,   1.17029966e+08,\n",
       "           1.17037576e+08,   1.17043251e+08,   1.17043736e+08,\n",
       "           1.17046586e+08,   1.17052141e+08,   1.17054583e+08,\n",
       "           1.17094368e+08,   1.17095154e+08,   1.17101188e+08,\n",
       "           1.17110355e+08,   1.17114025e+08,   1.17114279e+08,\n",
       "           1.17130349e+08,   1.17134312e+08,   1.17145803e+08,\n",
       "           1.17149088e+08,   1.17150392e+08,   1.17181070e+08,\n",
       "           1.17181839e+08,   1.17187287e+08,   1.17215003e+08,\n",
       "           1.17215700e+08,   1.17221959e+08,   1.17222546e+08,\n",
       "           1.17225092e+08,   1.17226703e+08,   1.17237627e+08,\n",
       "           1.17239972e+08,   1.17248152e+08,   1.17304814e+08,\n",
       "           1.17327025e+08,   1.17351606e+08,   1.17363583e+08,\n",
       "           1.17369386e+08,   1.17381419e+08,   1.17386317e+08,\n",
       "           1.17403195e+08,   1.17412345e+08,   1.17413539e+08,\n",
       "           1.17422180e+08,   1.17428732e+08,   1.17449771e+08,\n",
       "           1.17468053e+08,   1.17488399e+08,   1.17489771e+08,\n",
       "           1.17498048e+08,   1.17502154e+08,   1.17507643e+08,\n",
       "           1.17528364e+08,   1.17530712e+08,   1.17534458e+08,\n",
       "           1.17542117e+08,   1.17556965e+08,   1.17564755e+08,\n",
       "           1.17569567e+08,   1.17574885e+08,   1.17581632e+08,\n",
       "           1.17599447e+08,   1.17603264e+08,   1.17607760e+08,\n",
       "           1.17610919e+08,   1.17614911e+08,   1.17658727e+08,\n",
       "           1.17677766e+08,   1.17694359e+08,   1.17701391e+08,\n",
       "           1.17710077e+08,   1.17713164e+08,   1.17720980e+08,\n",
       "           1.17725107e+08,   1.17740484e+08,   1.17755098e+08,\n",
       "           1.17757288e+08,   1.17767472e+08,   1.17775655e+08,\n",
       "           1.17776450e+08,   1.17795110e+08,   1.17801132e+08,\n",
       "           1.17801364e+08,   1.17824236e+08,   1.17827014e+08,\n",
       "           1.17831588e+08,   1.17833734e+08,   1.17848393e+08,\n",
       "           1.17853612e+08,   1.17857252e+08,   1.17870788e+08,\n",
       "           1.17888591e+08,   1.17894880e+08,   1.17901544e+08,\n",
       "           1.17918996e+08,   1.17919182e+08,   1.17927061e+08,\n",
       "           1.17940182e+08,   1.17951421e+08,   1.17992663e+08,\n",
       "           1.18000118e+08,   1.18006180e+08,   1.18016233e+08,\n",
       "           1.18054792e+08,   1.18057874e+08,   1.18059207e+08,\n",
       "           1.18063013e+08,   1.18064476e+08,   1.18069993e+08,\n",
       "           1.18073799e+08,   1.18074322e+08,   1.18085048e+08,\n",
       "           1.18096714e+08,   1.18104622e+08,   1.18147950e+08,\n",
       "           1.18149992e+08,   1.18152814e+08,   1.18165906e+08,\n",
       "           1.18188379e+08,   1.18194739e+08,   1.18205100e+08,\n",
       "           1.18206736e+08,   1.18207713e+08,   1.18229050e+08,\n",
       "           1.18230498e+08,   1.18246653e+08,   1.18257613e+08,\n",
       "           1.18259159e+08,   1.18269994e+08,   1.18275991e+08,\n",
       "           1.18276216e+08,   1.18284425e+08,   1.18289039e+08,\n",
       "           1.18321109e+08,   1.18321996e+08,   1.18327767e+08,\n",
       "           1.18331506e+08,   1.18345016e+08,   1.18347606e+08,\n",
       "           1.18355691e+08,   1.18367612e+08,   1.18377876e+08,\n",
       "           1.18389396e+08,   1.18408387e+08,   1.18416834e+08,\n",
       "           1.18418934e+08,   1.18433583e+08,   1.18437923e+08,\n",
       "           1.18455765e+08,   1.18463462e+08,   1.18475104e+08,\n",
       "           1.18483471e+08,   1.18492194e+08,   1.18493020e+08,\n",
       "           1.18496876e+08,   1.18504540e+08,   1.18523492e+08,\n",
       "           1.18542284e+08,   1.18553828e+08,   1.18565185e+08,\n",
       "           1.18566416e+08,   1.18573611e+08,   1.18584724e+08,\n",
       "           1.18592016e+08,   1.18599886e+08,   1.18601617e+08,\n",
       "           1.18608218e+08,   1.18610144e+08,   1.18617088e+08,\n",
       "           1.18618783e+08,   1.18627258e+08,   1.18632130e+08,\n",
       "           1.18654074e+08,   1.18674038e+08,   1.18686665e+08,\n",
       "           1.18692960e+08,   1.18693847e+08,   1.18710014e+08,\n",
       "           1.18714829e+08,   1.18733611e+08,   1.18738590e+08,\n",
       "           1.18740155e+08,   1.18744040e+08,   1.18758379e+08,\n",
       "           1.18785643e+08,   1.18862837e+08,   1.18882970e+08,\n",
       "           1.18891953e+08,   1.18907815e+08,   1.18919434e+08,\n",
       "           1.18919461e+08,   1.18925280e+08,   1.18940470e+08,\n",
       "           1.18944208e+08,   1.18947470e+08,   1.18948871e+08,\n",
       "           1.18968954e+08,   1.19016677e+08,   1.19020151e+08,\n",
       "           1.19035791e+08,   1.19095715e+08,   1.19098955e+08,\n",
       "           1.19147981e+08,   1.19156083e+08,   1.19162931e+08,\n",
       "           1.19219750e+08,   1.19271251e+08,   1.19280984e+08,\n",
       "           1.19295669e+08,   1.19342415e+08,   1.19357098e+08,\n",
       "           1.19375654e+08,   1.19453257e+08,   1.19469046e+08,\n",
       "           1.19470522e+08,   1.19517891e+08,   1.19534895e+08,\n",
       "           1.19577060e+08,   1.19592575e+08,   1.19646106e+08,\n",
       "           1.19651301e+08,   1.19656585e+08,   1.19665018e+08,\n",
       "           1.19686841e+08,   1.19747370e+08,   1.19775156e+08,\n",
       "           1.19789513e+08,   1.19813336e+08,   1.19818290e+08,\n",
       "           1.19823008e+08,   1.19834280e+08,   1.19935736e+08,\n",
       "           1.19955853e+08,   1.20009417e+08,   1.20049732e+08,\n",
       "           1.20074810e+08,   1.20136110e+08,   1.20143053e+08,\n",
       "           1.20148136e+08,   1.20184115e+08,   1.20184904e+08,\n",
       "           1.20527136e+08,   1.20592664e+08,   1.20607207e+08,\n",
       "           1.20683652e+08,   1.20714185e+08,   1.20833657e+08,\n",
       "           1.20861000e+08,   1.20865715e+08,   1.20929723e+08,\n",
       "           1.21072861e+08,   1.21193395e+08,   1.21247254e+08,\n",
       "           1.21278082e+08,   1.21382044e+08,   1.21402274e+08,\n",
       "           1.21407480e+08,   1.21479550e+08,   1.21531624e+08,\n",
       "           1.21674777e+08,   1.22121458e+08,   1.22493310e+08,\n",
       "           1.22773182e+08,   1.23676851e+08])),\n",
       " (2487.8158005719051, -590786415.04871094, 0.99825718957876375))"
      ]
     },
     "execution_count": 26,
     "metadata": {},
     "output_type": "execute_result"
    },
    {
     "data": {
      "image/png": "[encoded data removed]",
      "text/plain": [
       "<matplotlib.figure.Figure at 0x7f5b89d6a048>"
      ]
     },
     "metadata": {},
     "output_type": "display_data"
    }
   ],
   "source": [
    "scipy.stats.probplot(control_boot_chi_squared, dist=\"chi2\", \n",
    "                     sparams=(len(ctrl_clicks)-1), plot=plt)"
   ]
  },
  {
   "cell_type": "code",
   "execution_count": 28,
   "metadata": {
    "collapsed": true
   },
   "outputs": [],
   "source": [
    "data_exp = data[data.slot == 'exp']\n",
    "data_ctrl = data[data.slot == 'control']"
   ]
  },
  {
   "cell_type": "code",
   "execution_count": 30,
   "metadata": {
    "collapsed": false
   },
   "outputs": [
    {
     "data": {
      "text/html": [
       "<div>\n",
       "<table border=\"1\" class=\"dataframe\">\n",
       "  <thead>\n",
       "    <tr style=\"text-align: right;\">\n",
       "      <th></th>\n",
       "      <th>userID</th>\n",
       "      <th>browser</th>\n",
       "      <th>slot</th>\n",
       "      <th>n_clicks</th>\n",
       "      <th>n_queries</th>\n",
       "      <th>n_nonclk_queries</th>\n",
       "    </tr>\n",
       "  </thead>\n",
       "  <tbody>\n",
       "    <tr>\n",
       "      <th>0</th>\n",
       "      <td>1</td>\n",
       "      <td>Browser #2</td>\n",
       "      <td>exp</td>\n",
       "      <td>23</td>\n",
       "      <td>32</td>\n",
       "      <td>19</td>\n",
       "    </tr>\n",
       "    <tr>\n",
       "      <th>1</th>\n",
       "      <td>3</td>\n",
       "      <td>Browser #4</td>\n",
       "      <td>exp</td>\n",
       "      <td>3</td>\n",
       "      <td>4</td>\n",
       "      <td>2</td>\n",
       "    </tr>\n",
       "  </tbody>\n",
       "</table>\n",
       "</div>"
      ],
      "text/plain": [
       "   userID     browser slot  n_clicks  n_queries  n_nonclk_queries\n",
       "0       1  Browser #2  exp        23         32                19\n",
       "1       3  Browser #4  exp         3          4                 2"
      ]
     },
     "execution_count": 30,
     "metadata": {},
     "output_type": "execute_result"
    }
   ],
   "source": [
    "data_exp.head(2)"
   ]
  },
  {
   "cell_type": "code",
   "execution_count": 34,
   "metadata": {
    "collapsed": false
   },
   "outputs": [],
   "source": [
    "data_exp_grouped = data_exp.groupby('userID').sum()\n",
    "data_ctrl_grouped = data_ctrl.groupby('userID').sum()"
   ]
  },
  {
   "cell_type": "code",
   "execution_count": 35,
   "metadata": {
    "collapsed": false
   },
   "outputs": [
    {
     "data": {
      "text/plain": [
       "(281450, 3)"
      ]
     },
     "execution_count": 35,
     "metadata": {},
     "output_type": "execute_result"
    }
   ],
   "source": [
    "data_exp_grouped.shape"
   ]
  },
  {
   "cell_type": "code",
   "execution_count": 36,
   "metadata": {
    "collapsed": false
   },
   "outputs": [
    {
     "data": {
      "text/plain": [
       "(284392, 3)"
      ]
     },
     "execution_count": 36,
     "metadata": {},
     "output_type": "execute_result"
    }
   ],
   "source": [
    "data_ctrl_grouped.shape"
   ]
  },
  {
   "cell_type": "code",
   "execution_count": 39,
   "metadata": {
    "collapsed": false
   },
   "outputs": [
    {
     "data": {
      "text/plain": [
       "MannwhitneyuResult(statistic=38901259929.0, pvalue=4.3471471887604393e-75)"
      ]
     },
     "execution_count": 39,
     "metadata": {},
     "output_type": "execute_result"
    }
   ],
   "source": [
    "mannwhitneyu(data_exp_grouped.n_clicks, data_ctrl_grouped.n_clicks)"
   ]
  },
  {
   "cell_type": "code",
   "execution_count": 42,
   "metadata": {
    "collapsed": true
   },
   "outputs": [],
   "source": [
    "browsers = data.browser.unique()"
   ]
  },
  {
   "cell_type": "code",
   "execution_count": 47,
   "metadata": {
    "collapsed": false
   },
   "outputs": [],
   "source": [
    "results = []\n",
    "for browser in browsers:\n",
    "    data_exp_grouped = data_exp[data_exp.browser == browser].groupby('userID').sum()\n",
    "    data_ctrl_grouped = data_ctrl[data_ctrl.browser == browser].groupby('userID').sum()\n",
    "    \n",
    "    st, p = mannwhitneyu(data_exp_grouped.n_clicks,\n",
    "                         data_ctrl_grouped.n_clicks)\n",
    "    \n",
    "    results.append([browser, st, p])"
   ]
  },
  {
   "cell_type": "code",
   "execution_count": 48,
   "metadata": {
    "collapsed": true
   },
   "outputs": [],
   "source": [
    "results_df = pd.DataFrame(results, columns=['Browser', 'St', 'p'])"
   ]
  },
  {
   "cell_type": "code",
   "execution_count": 49,
   "metadata": {
    "collapsed": false
   },
   "outputs": [
    {
     "data": {
      "text/html": [
       "<div>\n",
       "<table border=\"1\" class=\"dataframe\">\n",
       "  <thead>\n",
       "    <tr style=\"text-align: right;\">\n",
       "      <th></th>\n",
       "      <th>Browser</th>\n",
       "      <th>St</th>\n",
       "      <th>p</th>\n",
       "    </tr>\n",
       "  </thead>\n",
       "  <tbody>\n",
       "    <tr>\n",
       "      <th>0</th>\n",
       "      <td>Browser #2</td>\n",
       "      <td>1.522573e+09</td>\n",
       "      <td>0.027244</td>\n",
       "    </tr>\n",
       "    <tr>\n",
       "      <th>1</th>\n",
       "      <td>Browser #4</td>\n",
       "      <td>3.072448e+09</td>\n",
       "      <td>0.407606</td>\n",
       "    </tr>\n",
       "    <tr>\n",
       "      <th>2</th>\n",
       "      <td>Browser #14</td>\n",
       "      <td>8.069847e+08</td>\n",
       "      <td>0.000000</td>\n",
       "    </tr>\n",
       "    <tr>\n",
       "      <th>3</th>\n",
       "      <td>Browser #17</td>\n",
       "      <td>1.313897e+08</td>\n",
       "      <td>0.037401</td>\n",
       "    </tr>\n",
       "    <tr>\n",
       "      <th>4</th>\n",
       "      <td>Browser #20</td>\n",
       "      <td>1.437918e+08</td>\n",
       "      <td>0.453667</td>\n",
       "    </tr>\n",
       "    <tr>\n",
       "      <th>5</th>\n",
       "      <td>Browser #22</td>\n",
       "      <td>2.547598e+09</td>\n",
       "      <td>0.257406</td>\n",
       "    </tr>\n",
       "  </tbody>\n",
       "</table>\n",
       "</div>"
      ],
      "text/plain": [
       "       Browser            St         p\n",
       "0   Browser #2  1.522573e+09  0.027244\n",
       "1   Browser #4  3.072448e+09  0.407606\n",
       "2  Browser #14  8.069847e+08  0.000000\n",
       "3  Browser #17  1.313897e+08  0.037401\n",
       "4  Browser #20  1.437918e+08  0.453667\n",
       "5  Browser #22  2.547598e+09  0.257406"
      ]
     },
     "execution_count": 49,
     "metadata": {},
     "output_type": "execute_result"
    }
   ],
   "source": [
    "results_df"
   ]
  },
  {
   "cell_type": "code",
   "execution_count": 50,
   "metadata": {
    "collapsed": true
   },
   "outputs": [],
   "source": [
    "reject, p_corrected, a1, a2 = multipletests(results_df.p, \n",
    "                                            alpha = 0.05, \n",
    "                                            method = 'holm') \n",
    "results_df['p_corrected'] = p_corrected\n",
    "results_df['reject'] = reject"
   ]
  },
  {
   "cell_type": "code",
   "execution_count": 51,
   "metadata": {
    "collapsed": false
   },
   "outputs": [
    {
     "data": {
      "text/html": [
       "<div>\n",
       "<table border=\"1\" class=\"dataframe\">\n",
       "  <thead>\n",
       "    <tr style=\"text-align: right;\">\n",
       "      <th></th>\n",
       "      <th>Browser</th>\n",
       "      <th>St</th>\n",
       "      <th>p</th>\n",
       "      <th>p_corrected</th>\n",
       "      <th>reject</th>\n",
       "    </tr>\n",
       "  </thead>\n",
       "  <tbody>\n",
       "    <tr>\n",
       "      <th>0</th>\n",
       "      <td>Browser #2</td>\n",
       "      <td>1.522573e+09</td>\n",
       "      <td>0.027244</td>\n",
       "      <td>0.136219</td>\n",
       "      <td>False</td>\n",
       "    </tr>\n",
       "    <tr>\n",
       "      <th>1</th>\n",
       "      <td>Browser #4</td>\n",
       "      <td>3.072448e+09</td>\n",
       "      <td>0.407606</td>\n",
       "      <td>0.815212</td>\n",
       "      <td>False</td>\n",
       "    </tr>\n",
       "    <tr>\n",
       "      <th>2</th>\n",
       "      <td>Browser #14</td>\n",
       "      <td>8.069847e+08</td>\n",
       "      <td>0.000000</td>\n",
       "      <td>0.000000</td>\n",
       "      <td>True</td>\n",
       "    </tr>\n",
       "    <tr>\n",
       "      <th>3</th>\n",
       "      <td>Browser #17</td>\n",
       "      <td>1.313897e+08</td>\n",
       "      <td>0.037401</td>\n",
       "      <td>0.149602</td>\n",
       "      <td>False</td>\n",
       "    </tr>\n",
       "    <tr>\n",
       "      <th>4</th>\n",
       "      <td>Browser #20</td>\n",
       "      <td>1.437918e+08</td>\n",
       "      <td>0.453667</td>\n",
       "      <td>0.815212</td>\n",
       "      <td>False</td>\n",
       "    </tr>\n",
       "    <tr>\n",
       "      <th>5</th>\n",
       "      <td>Browser #22</td>\n",
       "      <td>2.547598e+09</td>\n",
       "      <td>0.257406</td>\n",
       "      <td>0.772217</td>\n",
       "      <td>False</td>\n",
       "    </tr>\n",
       "  </tbody>\n",
       "</table>\n",
       "</div>"
      ],
      "text/plain": [
       "       Browser            St         p  p_corrected reject\n",
       "0   Browser #2  1.522573e+09  0.027244     0.136219  False\n",
       "1   Browser #4  3.072448e+09  0.407606     0.815212  False\n",
       "2  Browser #14  8.069847e+08  0.000000     0.000000   True\n",
       "3  Browser #17  1.313897e+08  0.037401     0.149602  False\n",
       "4  Browser #20  1.437918e+08  0.453667     0.815212  False\n",
       "5  Browser #22  2.547598e+09  0.257406     0.772217  False"
      ]
     },
     "execution_count": 51,
     "metadata": {},
     "output_type": "execute_result"
    }
   ],
   "source": [
    "results_df"
   ]
  },
  {
   "cell_type": "code",
   "execution_count": 52,
   "metadata": {
    "collapsed": true
   },
   "outputs": [],
   "source": [
    "#Q6 - 5"
   ]
  },
  {
   "cell_type": "code",
   "execution_count": 53,
   "metadata": {
    "collapsed": true
   },
   "outputs": [],
   "source": [
    "results = []\n",
    "for browser in browsers:\n",
    "    d_ctrl = data_ctrl[data_ctrl.browser==browser]\n",
    "    d_exp = data_exp[data_exp.browser==browser]\n",
    "    d_ctrl_prop = float(np.sum(d_ctrl.n_nonclk_queries))/np.sum(d_ctrl.n_queries) * 100\n",
    "    d_exp_prop = float(np.sum(d_exp.n_nonclk_queries))/np.sum(d_exp.n_queries) * 100\n",
    "    results.append([browser, d_ctrl_prop, d_exp_prop])"
   ]
  },
  {
   "cell_type": "code",
   "execution_count": 54,
   "metadata": {
    "collapsed": true
   },
   "outputs": [],
   "source": [
    "browser_props = pd.DataFrame(results, columns=['browser', 'ctrl', 'exp'])"
   ]
  },
  {
   "cell_type": "code",
   "execution_count": 55,
   "metadata": {
    "collapsed": false
   },
   "outputs": [
    {
     "data": {
      "text/html": [
       "<div>\n",
       "<table border=\"1\" class=\"dataframe\">\n",
       "  <thead>\n",
       "    <tr style=\"text-align: right;\">\n",
       "      <th></th>\n",
       "      <th>browser</th>\n",
       "      <th>ctrl</th>\n",
       "      <th>exp</th>\n",
       "    </tr>\n",
       "  </thead>\n",
       "  <tbody>\n",
       "    <tr>\n",
       "      <th>0</th>\n",
       "      <td>Browser #2</td>\n",
       "      <td>45.962747</td>\n",
       "      <td>44.982747</td>\n",
       "    </tr>\n",
       "    <tr>\n",
       "      <th>1</th>\n",
       "      <td>Browser #4</td>\n",
       "      <td>46.970930</td>\n",
       "      <td>45.142942</td>\n",
       "    </tr>\n",
       "    <tr>\n",
       "      <th>2</th>\n",
       "      <td>Browser #14</td>\n",
       "      <td>57.590411</td>\n",
       "      <td>43.755617</td>\n",
       "    </tr>\n",
       "    <tr>\n",
       "      <th>3</th>\n",
       "      <td>Browser #17</td>\n",
       "      <td>36.299367</td>\n",
       "      <td>36.937413</td>\n",
       "    </tr>\n",
       "    <tr>\n",
       "      <th>4</th>\n",
       "      <td>Browser #20</td>\n",
       "      <td>40.540485</td>\n",
       "      <td>38.977376</td>\n",
       "    </tr>\n",
       "    <tr>\n",
       "      <th>5</th>\n",
       "      <td>Browser #22</td>\n",
       "      <td>40.593977</td>\n",
       "      <td>39.853947</td>\n",
       "    </tr>\n",
       "  </tbody>\n",
       "</table>\n",
       "</div>"
      ],
      "text/plain": [
       "       browser       ctrl        exp\n",
       "0   Browser #2  45.962747  44.982747\n",
       "1   Browser #4  46.970930  45.142942\n",
       "2  Browser #14  57.590411  43.755617\n",
       "3  Browser #17  36.299367  36.937413\n",
       "4  Browser #20  40.540485  38.977376\n",
       "5  Browser #22  40.593977  39.853947"
      ]
     },
     "execution_count": 55,
     "metadata": {},
     "output_type": "execute_result"
    }
   ],
   "source": [
    "browser_props"
   ]
  },
  {
   "cell_type": "code",
   "execution_count": null,
   "metadata": {
    "collapsed": true
   },
   "outputs": [],
   "source": []
  }
 ],
 "metadata": {
  "anaconda-cloud": {},
  "kernelspec": {
   "display_name": "Python [conda env:py3_env]",
   "language": "python",
   "name": "conda-env-py3_env-py"
  },
  "language_info": {
   "codemirror_mode": {
    "name": "ipython",
    "version": 3
   },
   "file_extension": ".py",
   "mimetype": "text/x-python",
   "name": "python",
   "nbconvert_exporter": "python",
   "pygments_lexer": "ipython3",
   "version": "3.5.2"
  }
 },
 "nbformat": 4,
 "nbformat_minor": 1
}
