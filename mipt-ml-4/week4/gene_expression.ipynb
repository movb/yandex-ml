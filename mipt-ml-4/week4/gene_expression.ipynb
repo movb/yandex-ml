{
 "cells": [
  {
   "cell_type": "code",
   "execution_count": 1,
   "metadata": {
    "collapsed": false
   },
   "outputs": [],
   "source": [
    "import pandas as pd\n",
    "import numpy as np\n",
    "import scipy\n",
    "\n",
    "from scipy.stats import pearsonr\n",
    "from statsmodels.sandbox.stats.multicomp import multipletests "
   ]
  },
  {
   "cell_type": "code",
   "execution_count": 2,
   "metadata": {
    "collapsed": true
   },
   "outputs": [],
   "source": [
    "data = pd.read_csv('high_throughput_sequencing.csv')"
   ]
  },
  {
   "cell_type": "code",
   "execution_count": 3,
   "metadata": {
    "collapsed": false
   },
   "outputs": [
    {
     "data": {
      "text/html": [
       "<div>\n",
       "<table border=\"1\" class=\"dataframe\">\n",
       "  <thead>\n",
       "    <tr style=\"text-align: right;\">\n",
       "      <th></th>\n",
       "      <th>Patient_id</th>\n",
       "      <th>Diagnosis</th>\n",
       "      <th>LOC643837</th>\n",
       "      <th>LOC100130417</th>\n",
       "      <th>SAMD11</th>\n",
       "      <th>NOC2L</th>\n",
       "      <th>KLHL17</th>\n",
       "      <th>PLEKHN1</th>\n",
       "      <th>C1orf170</th>\n",
       "      <th>HES4</th>\n",
       "      <th>...</th>\n",
       "      <th>CLIC2</th>\n",
       "      <th>RPS4Y1</th>\n",
       "      <th>ZFY</th>\n",
       "      <th>PRKY</th>\n",
       "      <th>USP9Y</th>\n",
       "      <th>DDX3Y</th>\n",
       "      <th>CD24</th>\n",
       "      <th>CYorf15B</th>\n",
       "      <th>KDM5D</th>\n",
       "      <th>EIF1AY</th>\n",
       "    </tr>\n",
       "  </thead>\n",
       "  <tbody>\n",
       "    <tr>\n",
       "      <th>0</th>\n",
       "      <td>STT5425_Breast_001_normal</td>\n",
       "      <td>normal</td>\n",
       "      <td>1.257614</td>\n",
       "      <td>2.408148</td>\n",
       "      <td>13.368622</td>\n",
       "      <td>9.494779</td>\n",
       "      <td>20.880435</td>\n",
       "      <td>12.722017</td>\n",
       "      <td>9.494779</td>\n",
       "      <td>54.349694</td>\n",
       "      <td>...</td>\n",
       "      <td>4.761250</td>\n",
       "      <td>1.257614</td>\n",
       "      <td>1.257614</td>\n",
       "      <td>1.257614</td>\n",
       "      <td>1.257614</td>\n",
       "      <td>1.257614</td>\n",
       "      <td>23.268694</td>\n",
       "      <td>1.257614</td>\n",
       "      <td>1.257614</td>\n",
       "      <td>1.257614</td>\n",
       "    </tr>\n",
       "    <tr>\n",
       "      <th>1</th>\n",
       "      <td>STT5427_Breast_023_normal</td>\n",
       "      <td>normal</td>\n",
       "      <td>4.567931</td>\n",
       "      <td>16.602734</td>\n",
       "      <td>42.477752</td>\n",
       "      <td>25.562376</td>\n",
       "      <td>23.221137</td>\n",
       "      <td>11.622386</td>\n",
       "      <td>14.330573</td>\n",
       "      <td>72.445474</td>\n",
       "      <td>...</td>\n",
       "      <td>6.871902</td>\n",
       "      <td>1.815112</td>\n",
       "      <td>1.815112</td>\n",
       "      <td>1.815112</td>\n",
       "      <td>1.815112</td>\n",
       "      <td>1.815112</td>\n",
       "      <td>10.427023</td>\n",
       "      <td>1.815112</td>\n",
       "      <td>1.815112</td>\n",
       "      <td>1.815112</td>\n",
       "    </tr>\n",
       "    <tr>\n",
       "      <th>2</th>\n",
       "      <td>STT5430_Breast_002_normal</td>\n",
       "      <td>normal</td>\n",
       "      <td>2.077597</td>\n",
       "      <td>3.978294</td>\n",
       "      <td>12.863214</td>\n",
       "      <td>13.728915</td>\n",
       "      <td>14.543176</td>\n",
       "      <td>14.141907</td>\n",
       "      <td>6.232790</td>\n",
       "      <td>57.011005</td>\n",
       "      <td>...</td>\n",
       "      <td>7.096343</td>\n",
       "      <td>2.077597</td>\n",
       "      <td>2.077597</td>\n",
       "      <td>2.077597</td>\n",
       "      <td>2.077597</td>\n",
       "      <td>2.077597</td>\n",
       "      <td>22.344226</td>\n",
       "      <td>2.077597</td>\n",
       "      <td>2.077597</td>\n",
       "      <td>2.077597</td>\n",
       "    </tr>\n",
       "    <tr>\n",
       "      <th>3</th>\n",
       "      <td>STT5439_Breast_003_normal</td>\n",
       "      <td>normal</td>\n",
       "      <td>2.066576</td>\n",
       "      <td>8.520713</td>\n",
       "      <td>14.466035</td>\n",
       "      <td>7.823932</td>\n",
       "      <td>8.520713</td>\n",
       "      <td>2.066576</td>\n",
       "      <td>10.870009</td>\n",
       "      <td>53.292034</td>\n",
       "      <td>...</td>\n",
       "      <td>5.200770</td>\n",
       "      <td>2.066576</td>\n",
       "      <td>2.066576</td>\n",
       "      <td>2.066576</td>\n",
       "      <td>2.066576</td>\n",
       "      <td>2.066576</td>\n",
       "      <td>49.295538</td>\n",
       "      <td>2.066576</td>\n",
       "      <td>2.066576</td>\n",
       "      <td>2.066576</td>\n",
       "    </tr>\n",
       "    <tr>\n",
       "      <th>4</th>\n",
       "      <td>STT5441_Breast_004_normal</td>\n",
       "      <td>normal</td>\n",
       "      <td>2.613616</td>\n",
       "      <td>3.434965</td>\n",
       "      <td>12.682222</td>\n",
       "      <td>10.543189</td>\n",
       "      <td>26.688686</td>\n",
       "      <td>12.484822</td>\n",
       "      <td>1.364917</td>\n",
       "      <td>67.140393</td>\n",
       "      <td>...</td>\n",
       "      <td>11.227770</td>\n",
       "      <td>1.364917</td>\n",
       "      <td>1.364917</td>\n",
       "      <td>1.364917</td>\n",
       "      <td>1.364917</td>\n",
       "      <td>1.364917</td>\n",
       "      <td>23.627911</td>\n",
       "      <td>1.364917</td>\n",
       "      <td>1.364917</td>\n",
       "      <td>1.364917</td>\n",
       "    </tr>\n",
       "  </tbody>\n",
       "</table>\n",
       "<p>5 rows × 15750 columns</p>\n",
       "</div>"
      ],
      "text/plain": [
       "                  Patient_id Diagnosis  LOC643837  LOC100130417     SAMD11  \\\n",
       "0  STT5425_Breast_001_normal    normal   1.257614      2.408148  13.368622   \n",
       "1  STT5427_Breast_023_normal    normal   4.567931     16.602734  42.477752   \n",
       "2  STT5430_Breast_002_normal    normal   2.077597      3.978294  12.863214   \n",
       "3  STT5439_Breast_003_normal    normal   2.066576      8.520713  14.466035   \n",
       "4  STT5441_Breast_004_normal    normal   2.613616      3.434965  12.682222   \n",
       "\n",
       "       NOC2L     KLHL17    PLEKHN1   C1orf170       HES4    ...         CLIC2  \\\n",
       "0   9.494779  20.880435  12.722017   9.494779  54.349694    ...      4.761250   \n",
       "1  25.562376  23.221137  11.622386  14.330573  72.445474    ...      6.871902   \n",
       "2  13.728915  14.543176  14.141907   6.232790  57.011005    ...      7.096343   \n",
       "3   7.823932   8.520713   2.066576  10.870009  53.292034    ...      5.200770   \n",
       "4  10.543189  26.688686  12.484822   1.364917  67.140393    ...     11.227770   \n",
       "\n",
       "     RPS4Y1       ZFY      PRKY     USP9Y     DDX3Y       CD24  CYorf15B  \\\n",
       "0  1.257614  1.257614  1.257614  1.257614  1.257614  23.268694  1.257614   \n",
       "1  1.815112  1.815112  1.815112  1.815112  1.815112  10.427023  1.815112   \n",
       "2  2.077597  2.077597  2.077597  2.077597  2.077597  22.344226  2.077597   \n",
       "3  2.066576  2.066576  2.066576  2.066576  2.066576  49.295538  2.066576   \n",
       "4  1.364917  1.364917  1.364917  1.364917  1.364917  23.627911  1.364917   \n",
       "\n",
       "      KDM5D    EIF1AY  \n",
       "0  1.257614  1.257614  \n",
       "1  1.815112  1.815112  \n",
       "2  2.077597  2.077597  \n",
       "3  2.066576  2.066576  \n",
       "4  1.364917  1.364917  \n",
       "\n",
       "[5 rows x 15750 columns]"
      ]
     },
     "execution_count": 3,
     "metadata": {},
     "output_type": "execute_result"
    }
   ],
   "source": [
    "data.head()"
   ]
  },
  {
   "cell_type": "code",
   "execution_count": 4,
   "metadata": {
    "collapsed": true
   },
   "outputs": [],
   "source": [
    "gens = data.columns[2:]"
   ]
  },
  {
   "cell_type": "code",
   "execution_count": 5,
   "metadata": {
    "collapsed": false
   },
   "outputs": [],
   "source": [
    "data_normal = data[data['Diagnosis']=='normal'][gens]\n",
    "data_en = data[data['Diagnosis']=='early neoplasia'][gens]\n",
    "data_cancer = data[data['Diagnosis']=='cancer'][gens]"
   ]
  },
  {
   "cell_type": "code",
   "execution_count": 32,
   "metadata": {
    "collapsed": false
   },
   "outputs": [],
   "source": [
    "def calc_data(data1,data2):\n",
    "    results = []\n",
    "    for gen in gens:\n",
    "        statistics, p =scipy.stats.ttest_ind(data1[gen], data2[gen], equal_var = False)\n",
    "        results.append([gen, np.mean(data1[gen]), np.mean(data2[gen]), statistics, p])\n",
    "    return pd.DataFrame(results, columns=['Gen','Control','Treatment','Stat','p'])"
   ]
  },
  {
   "cell_type": "code",
   "execution_count": 33,
   "metadata": {
    "collapsed": true
   },
   "outputs": [],
   "source": [
    "normal_vs_en = calc_data(data_normal, data_en)"
   ]
  },
  {
   "cell_type": "code",
   "execution_count": 34,
   "metadata": {
    "collapsed": false
   },
   "outputs": [
    {
     "data": {
      "text/html": [
       "<div>\n",
       "<table border=\"1\" class=\"dataframe\">\n",
       "  <thead>\n",
       "    <tr style=\"text-align: right;\">\n",
       "      <th></th>\n",
       "      <th>Gen</th>\n",
       "      <th>Control</th>\n",
       "      <th>Treatment</th>\n",
       "      <th>Stat</th>\n",
       "      <th>p</th>\n",
       "    </tr>\n",
       "  </thead>\n",
       "  <tbody>\n",
       "    <tr>\n",
       "      <th>0</th>\n",
       "      <td>LOC643837</td>\n",
       "      <td>2.681277</td>\n",
       "      <td>2.510894</td>\n",
       "      <td>0.400289</td>\n",
       "      <td>0.690766</td>\n",
       "    </tr>\n",
       "    <tr>\n",
       "      <th>1</th>\n",
       "      <td>LOC100130417</td>\n",
       "      <td>4.368497</td>\n",
       "      <td>8.721781</td>\n",
       "      <td>-4.608766</td>\n",
       "      <td>0.000032</td>\n",
       "    </tr>\n",
       "    <tr>\n",
       "      <th>2</th>\n",
       "      <td>SAMD11</td>\n",
       "      <td>15.159566</td>\n",
       "      <td>18.531325</td>\n",
       "      <td>-1.929277</td>\n",
       "      <td>0.060273</td>\n",
       "    </tr>\n",
       "    <tr>\n",
       "      <th>3</th>\n",
       "      <td>NOC2L</td>\n",
       "      <td>15.374351</td>\n",
       "      <td>15.071854</td>\n",
       "      <td>0.220542</td>\n",
       "      <td>0.826429</td>\n",
       "    </tr>\n",
       "    <tr>\n",
       "      <th>4</th>\n",
       "      <td>KLHL17</td>\n",
       "      <td>21.459886</td>\n",
       "      <td>24.152469</td>\n",
       "      <td>-2.013201</td>\n",
       "      <td>0.049876</td>\n",
       "    </tr>\n",
       "  </tbody>\n",
       "</table>\n",
       "</div>"
      ],
      "text/plain": [
       "            Gen    Control  Treatment      Stat         p\n",
       "0     LOC643837   2.681277   2.510894  0.400289  0.690766\n",
       "1  LOC100130417   4.368497   8.721781 -4.608766  0.000032\n",
       "2        SAMD11  15.159566  18.531325 -1.929277  0.060273\n",
       "3         NOC2L  15.374351  15.071854  0.220542  0.826429\n",
       "4        KLHL17  21.459886  24.152469 -2.013201  0.049876"
      ]
     },
     "execution_count": 34,
     "metadata": {},
     "output_type": "execute_result"
    }
   ],
   "source": [
    "normal_vs_en.head()"
   ]
  },
  {
   "cell_type": "code",
   "execution_count": 36,
   "metadata": {
    "collapsed": false
   },
   "outputs": [
    {
     "data": {
      "text/plain": [
       "1575"
      ]
     },
     "execution_count": 36,
     "metadata": {},
     "output_type": "execute_result"
    }
   ],
   "source": [
    "np.sum(normal_vs_en.p < 0.05)"
   ]
  },
  {
   "cell_type": "code",
   "execution_count": 35,
   "metadata": {
    "collapsed": true
   },
   "outputs": [],
   "source": [
    "en_vs_cancer = calc_data(data_en, data_cancer)"
   ]
  },
  {
   "cell_type": "code",
   "execution_count": 37,
   "metadata": {
    "collapsed": false
   },
   "outputs": [
    {
     "data": {
      "text/plain": [
       "3490"
      ]
     },
     "execution_count": 37,
     "metadata": {},
     "output_type": "execute_result"
    }
   ],
   "source": [
    "np.sum(en_vs_cancer.p < 0.05)"
   ]
  },
  {
   "cell_type": "code",
   "execution_count": 38,
   "metadata": {
    "collapsed": false
   },
   "outputs": [],
   "source": [
    "def fold_change(C,T):\n",
    "    if T>=C:\n",
    "        return float(T)/C\n",
    "    else:\n",
    "        return -float(C)/T"
   ]
  },
  {
   "cell_type": "code",
   "execution_count": 39,
   "metadata": {
    "collapsed": true
   },
   "outputs": [],
   "source": [
    "def correct_p(data, alpha, method):\n",
    "    reject, p_corrected, a1, a2 = multipletests(data.p, \n",
    "                                            alpha = alpha, \n",
    "                                            method = method)\n",
    "    data[method+'_p_corrected'] = p_corrected\n",
    "    data[method+'_reject'] = reject\n",
    "    \n",
    "    return data"
   ]
  },
  {
   "cell_type": "code",
   "execution_count": 20,
   "metadata": {
    "collapsed": true
   },
   "outputs": [],
   "source": [
    "# Метод Холма"
   ]
  },
  {
   "cell_type": "code",
   "execution_count": 40,
   "metadata": {
    "collapsed": false
   },
   "outputs": [],
   "source": [
    "normal_vs_en = correct_p(normal_vs_en, alpha=0.025, method='holm')\n",
    "en_vs_cancer = correct_p(en_vs_cancer, alpha=0.025, method='holm')"
   ]
  },
  {
   "cell_type": "code",
   "execution_count": 41,
   "metadata": {
    "collapsed": true
   },
   "outputs": [],
   "source": [
    "# Метод Бенджамини-Хохберга"
   ]
  },
  {
   "cell_type": "code",
   "execution_count": 42,
   "metadata": {
    "collapsed": true
   },
   "outputs": [],
   "source": [
    "normal_vs_en = correct_p(normal_vs_en, alpha=0.025, method='fdr_bh')\n",
    "en_vs_cancer = correct_p(en_vs_cancer, alpha=0.025, method='fdr_bh')"
   ]
  },
  {
   "cell_type": "code",
   "execution_count": 43,
   "metadata": {
    "collapsed": false
   },
   "outputs": [
    {
     "data": {
      "text/html": [
       "<div>\n",
       "<table border=\"1\" class=\"dataframe\">\n",
       "  <thead>\n",
       "    <tr style=\"text-align: right;\">\n",
       "      <th></th>\n",
       "      <th>Gen</th>\n",
       "      <th>Control</th>\n",
       "      <th>Treatment</th>\n",
       "      <th>Stat</th>\n",
       "      <th>p</th>\n",
       "      <th>holm_p_corrected</th>\n",
       "      <th>holm_reject</th>\n",
       "      <th>fdr_bh_p_corrected</th>\n",
       "      <th>fdr_bh_reject</th>\n",
       "    </tr>\n",
       "  </thead>\n",
       "  <tbody>\n",
       "    <tr>\n",
       "      <th>0</th>\n",
       "      <td>LOC643837</td>\n",
       "      <td>2.681277</td>\n",
       "      <td>2.510894</td>\n",
       "      <td>0.400289</td>\n",
       "      <td>0.690766</td>\n",
       "      <td>1.000000</td>\n",
       "      <td>False</td>\n",
       "      <td>0.966511</td>\n",
       "      <td>False</td>\n",
       "    </tr>\n",
       "    <tr>\n",
       "      <th>1</th>\n",
       "      <td>LOC100130417</td>\n",
       "      <td>4.368497</td>\n",
       "      <td>8.721781</td>\n",
       "      <td>-4.608766</td>\n",
       "      <td>0.000032</td>\n",
       "      <td>0.500174</td>\n",
       "      <td>False</td>\n",
       "      <td>0.035698</td>\n",
       "      <td>False</td>\n",
       "    </tr>\n",
       "    <tr>\n",
       "      <th>2</th>\n",
       "      <td>SAMD11</td>\n",
       "      <td>15.159566</td>\n",
       "      <td>18.531325</td>\n",
       "      <td>-1.929277</td>\n",
       "      <td>0.060273</td>\n",
       "      <td>1.000000</td>\n",
       "      <td>False</td>\n",
       "      <td>0.536103</td>\n",
       "      <td>False</td>\n",
       "    </tr>\n",
       "    <tr>\n",
       "      <th>3</th>\n",
       "      <td>NOC2L</td>\n",
       "      <td>15.374351</td>\n",
       "      <td>15.071854</td>\n",
       "      <td>0.220542</td>\n",
       "      <td>0.826429</td>\n",
       "      <td>1.000000</td>\n",
       "      <td>False</td>\n",
       "      <td>0.980777</td>\n",
       "      <td>False</td>\n",
       "    </tr>\n",
       "    <tr>\n",
       "      <th>4</th>\n",
       "      <td>KLHL17</td>\n",
       "      <td>21.459886</td>\n",
       "      <td>24.152469</td>\n",
       "      <td>-2.013201</td>\n",
       "      <td>0.049876</td>\n",
       "      <td>1.000000</td>\n",
       "      <td>False</td>\n",
       "      <td>0.499016</td>\n",
       "      <td>False</td>\n",
       "    </tr>\n",
       "  </tbody>\n",
       "</table>\n",
       "</div>"
      ],
      "text/plain": [
       "            Gen    Control  Treatment      Stat         p  holm_p_corrected  \\\n",
       "0     LOC643837   2.681277   2.510894  0.400289  0.690766          1.000000   \n",
       "1  LOC100130417   4.368497   8.721781 -4.608766  0.000032          0.500174   \n",
       "2        SAMD11  15.159566  18.531325 -1.929277  0.060273          1.000000   \n",
       "3         NOC2L  15.374351  15.071854  0.220542  0.826429          1.000000   \n",
       "4        KLHL17  21.459886  24.152469 -2.013201  0.049876          1.000000   \n",
       "\n",
       "  holm_reject  fdr_bh_p_corrected fdr_bh_reject  \n",
       "0       False            0.966511         False  \n",
       "1       False            0.035698         False  \n",
       "2       False            0.536103         False  \n",
       "3       False            0.980777         False  \n",
       "4       False            0.499016         False  "
      ]
     },
     "execution_count": 43,
     "metadata": {},
     "output_type": "execute_result"
    }
   ],
   "source": [
    "normal_vs_en.head()"
   ]
  },
  {
   "cell_type": "code",
   "execution_count": 44,
   "metadata": {
    "collapsed": true
   },
   "outputs": [],
   "source": [
    "def check_fold_change(x):\n",
    "    fold_level = 1.5\n",
    "    if x[2] and fold_change(x[0],x[1])>fold_level:\n",
    "        return True\n",
    "    return False"
   ]
  },
  {
   "cell_type": "code",
   "execution_count": 49,
   "metadata": {
    "collapsed": false
   },
   "outputs": [],
   "source": [
    "normal_vs_en['holm_fold_rejected'] = normal_vs_en[['Control','Treatment','holm_reject']].apply(check_fold_change,axis=1)\n",
    "normal_vs_en['fdr_bh_fold_rejected'] = normal_vs_en[['Control','Treatment','fdr_bh_reject']].apply(check_fold_change,axis=1)"
   ]
  },
  {
   "cell_type": "code",
   "execution_count": 50,
   "metadata": {
    "collapsed": true
   },
   "outputs": [],
   "source": [
    "en_vs_cancer['holm_fold_rejected'] = en_vs_cancer[['Control','Treatment','holm_reject']].apply(check_fold_change,axis=1)\n",
    "en_vs_cancer['fdr_bh_fold_rejected'] = en_vs_cancer[['Control','Treatment','fdr_bh_reject']].apply(check_fold_change,axis=1)"
   ]
  },
  {
   "cell_type": "code",
   "execution_count": 51,
   "metadata": {
    "collapsed": false
   },
   "outputs": [
    {
     "data": {
      "text/plain": [
       "2"
      ]
     },
     "execution_count": 51,
     "metadata": {},
     "output_type": "execute_result"
    }
   ],
   "source": [
    "np.sum(normal_vs_en['holm_fold_rejected'])"
   ]
  },
  {
   "cell_type": "code",
   "execution_count": 52,
   "metadata": {
    "collapsed": false
   },
   "outputs": [
    {
     "data": {
      "text/plain": [
       "4"
      ]
     },
     "execution_count": 52,
     "metadata": {},
     "output_type": "execute_result"
    }
   ],
   "source": [
    "np.sum(normal_vs_en['fdr_bh_fold_rejected'])"
   ]
  },
  {
   "cell_type": "code",
   "execution_count": 53,
   "metadata": {
    "collapsed": false
   },
   "outputs": [
    {
     "data": {
      "text/plain": [
       "4"
      ]
     },
     "execution_count": 53,
     "metadata": {},
     "output_type": "execute_result"
    }
   ],
   "source": [
    "np.sum(en_vs_cancer['holm_fold_rejected'])"
   ]
  },
  {
   "cell_type": "code",
   "execution_count": 54,
   "metadata": {
    "collapsed": false
   },
   "outputs": [
    {
     "data": {
      "text/plain": [
       "157"
      ]
     },
     "execution_count": 54,
     "metadata": {},
     "output_type": "execute_result"
    }
   ],
   "source": [
    "np.sum(en_vs_cancer['fdr_bh_fold_rejected'])"
   ]
  },
  {
   "cell_type": "code",
   "execution_count": null,
   "metadata": {
    "collapsed": true
   },
   "outputs": [],
   "source": []
  }
 ],
 "metadata": {
  "anaconda-cloud": {},
  "kernelspec": {
   "display_name": "Python [conda env:py3_env]",
   "language": "python",
   "name": "conda-env-py3_env-py"
  },
  "language_info": {
   "codemirror_mode": {
    "name": "ipython",
    "version": 3
   },
   "file_extension": ".py",
   "mimetype": "text/x-python",
   "name": "python",
   "nbconvert_exporter": "python",
   "pygments_lexer": "ipython3",
   "version": "3.5.2"
  }
 },
 "nbformat": 4,
 "nbformat_minor": 1
}
