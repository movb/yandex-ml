{
 "cells": [
  {
   "cell_type": "code",
   "execution_count": 1,
   "metadata": {
    "collapsed": true
   },
   "outputs": [],
   "source": [
    "import pandas as pd\n",
    "import numpy as np\n",
    "from collections import Counter"
   ]
  },
  {
   "cell_type": "code",
   "execution_count": 2,
   "metadata": {
    "collapsed": true
   },
   "outputs": [],
   "source": [
    "def write_answer(assignment_N, answer):\n",
    "    with open(\"rank_{}.txt\".format(assignment_N), \"w\") as fout:\n",
    "        fout.write(\"{:.2f} {:.2f} {:.2f} {:.2f}\".format(answer[0], answer[1], answer[2], answer[3]))"
   ]
  },
  {
   "cell_type": "code",
   "execution_count": 3,
   "metadata": {
    "collapsed": false
   },
   "outputs": [],
   "source": [
    "def read_file(filename):\n",
    "    viewed_items = Counter()\n",
    "    buyed_items = Counter()\n",
    "    \n",
    "    with open(filename, 'rt') as f:\n",
    "        user_count = 0\n",
    "        for user, line in enumerate(f.readlines()):\n",
    "            viewed, buyed = line.strip().split(';')\n",
    "            \n",
    "            #if len(buyed)==0:\n",
    "            #    continue\n",
    "            \n",
    "            user_count += 1\n",
    "                \n",
    "            viewed = viewed.split(',')\n",
    "            buyed = buyed.split(',')\n",
    "            \n",
    "            for item in viewed:\n",
    "                viewed_items[item] += 1\n",
    "            for item in buyed:\n",
    "                buyed_items[item] += 1\n",
    "            \n",
    "            #for item in viewed:\n",
    "            #    if item in viewed_items:\n",
    "            #        viewed_items[item] = (viewed_items[item][0] + 1, viewed_items[item][1].add(user))\n",
    "            #    else:\n",
    "            #        viewed_items[item] = (1, set(user))\n",
    "            \n",
    "    return viewed_items, buyed_items, user_count"
   ]
  },
  {
   "cell_type": "code",
   "execution_count": 4,
   "metadata": {
    "collapsed": true
   },
   "outputs": [],
   "source": [
    "def read_file_test(filename):\n",
    "    users = []\n",
    "    \n",
    "    with open(filename, 'rt') as f:\n",
    "        for line in f.readlines():\n",
    "            viewed, buyed = line.strip().split(';')\n",
    "            \n",
    "            if len(buyed) ==0:\n",
    "                continue\n",
    "            \n",
    "            viewed = viewed.split(',')\n",
    "            buyed = buyed.split(',')\n",
    "            \n",
    "            \n",
    "            users.append((viewed,buyed))\n",
    "    return users"
   ]
  },
  {
   "cell_type": "code",
   "execution_count": 30,
   "metadata": {
    "collapsed": false
   },
   "outputs": [],
   "source": [
    "viewed_count, buyed_count, user_count = read_file('coursera_sessions_train.txt')\n",
    "train_data = read_file_test('coursera_sessions_train.txt')\n",
    "test_data = read_file_test('coursera_sessions_test.txt')"
   ]
  },
  {
   "cell_type": "code",
   "execution_count": 89,
   "metadata": {
    "collapsed": true
   },
   "outputs": [],
   "source": [
    "def predict(viewed, k, method='popular'):\n",
    "    unique_viewed = np.array(viewed)[np.sort(np.unique(viewed, return_index=True)[1])]\n",
    "    C = Counter(viewed)\n",
    "    k = min(len(viewed), k)    \n",
    "    ratings = []\n",
    "    \n",
    "    for item in unique_viewed:\n",
    "        if method == 'popular':\n",
    "            #ratings.append(-viewed_count[item]*C[item])\n",
    "            ratings.append(-viewed_count[item])\n",
    "        else:\n",
    "            #ratings.append(-buyed_count[item]*C[item])\n",
    "            ratings.append(-buyed_count[item])\n",
    "    \n",
    "    sorted_items = np.argsort(ratings, kind='mergesort')\n",
    "    return list(unique_viewed[sorted_items])[0:k]"
   ]
  },
  {
   "cell_type": "code",
   "execution_count": 90,
   "metadata": {
    "collapsed": false
   },
   "outputs": [],
   "source": [
    "def get_user_precision(x):\n",
    "    return precision(predict(test_data[x][0], 5), test_data[x][1], 5)"
   ]
  },
  {
   "cell_type": "code",
   "execution_count": 91,
   "metadata": {
    "collapsed": false
   },
   "outputs": [],
   "source": [
    "def precision(predicted, buyed, k):\n",
    "    rb = [x for x in buyed if x in predicted]\n",
    "    return len(rb)/float(k)"
   ]
  },
  {
   "cell_type": "code",
   "execution_count": 92,
   "metadata": {
    "collapsed": true
   },
   "outputs": [],
   "source": [
    "def recall(predicted, buyed):\n",
    "    rb = [x for x in buyed if x in predicted]\n",
    "    return len(rb)/float(len(buyed))"
   ]
  },
  {
   "cell_type": "code",
   "execution_count": 93,
   "metadata": {
    "collapsed": false
   },
   "outputs": [],
   "source": [
    "def get_stats(data,method='popular'):\n",
    "    ar1 = np.mean([recall(predict(user[0], 1, method=method), user[1]) for user in data])\n",
    "    ap1 = np.mean([precision(predict(user[0], 1, method=method), user[1], 1) for user in data])\n",
    "    ar5 = np.mean([recall(predict(user[0], 5, method=method), user[1]) for user in data])\n",
    "    ap5 = np.mean([precision(predict(user[0], 5, method=method), user[1], 5) for user in data])\n",
    "    \n",
    "    return ar1, ap1, ar5, ap5"
   ]
  },
  {
   "cell_type": "code",
   "execution_count": 94,
   "metadata": {
    "collapsed": false
   },
   "outputs": [],
   "source": [
    "train_popular = get_stats(train_data, 'popular')\n",
    "test_popular = get_stats(test_data, 'popular')\n",
    "train_purch = get_stats(train_data, 'purch')\n",
    "test_purch = get_stats(test_data, 'purch')"
   ]
  },
  {
   "cell_type": "code",
   "execution_count": 95,
   "metadata": {
    "collapsed": false
   },
   "outputs": [],
   "source": [
    "write_answer(1, train_popular)\n",
    "write_answer(2, test_popular)\n",
    "write_answer(3, train_purch)\n",
    "write_answer(4, test_purch)"
   ]
  },
  {
   "cell_type": "code",
   "execution_count": 88,
   "metadata": {
    "collapsed": false
   },
   "outputs": [
    {
     "ename": "SyntaxError",
     "evalue": "invalid syntax (<ipython-input-88-8c9534a0e141>, line 8)",
     "output_type": "error",
     "traceback": [
      "\u001b[1;36m  File \u001b[1;32m\"<ipython-input-88-8c9534a0e141>\"\u001b[1;36m, line \u001b[1;32m8\u001b[0m\n\u001b[1;33m    print('Recommended {}, precision@1: {:.2f}'.format(predict(user[0], 5, method=method),\u001b[0m\n\u001b[1;37m        ^\u001b[0m\n\u001b[1;31mSyntaxError\u001b[0m\u001b[1;31m:\u001b[0m invalid syntax\n"
     ]
    }
   ],
   "source": [
    "def mprint(user, method='popular'):\n",
    "    print('Viewed: {}, Buyed: {}'.format(user[0], user[1]))\n",
    "    print(\"Recommended {}, precision@1: {:.2f}\".format())\n",
    "    print('Recommended {}, precision@1: {:.2f}'.format(predict(user[0], 1, method=method),\n",
    "                                               precision(predict(user[0], 1, method=method), user[1], 1)))\n",
    "    print('Recommended {}, precision@1: {:.2f}'.format(predict(user[0], 1, method=method),\n",
    "                                               recall(predict(user[0], 1, method=method), user[1]))\n",
    "    print('Recommended {}, precision@1: {:.2f}'.format(predict(user[0], 5, method=method),\n",
    "                                               precision(predict(user[0], 5, method=method), user[1], 5)))\n",
    "    print('Recommended {}, precision@1: {:.2f}'.format(predict(user[0], 1, method=method),\n",
    "                                               precision(predict(user[0], 1, method=method), user[1], 1)))\n",
    "        \n",
    "        precision(predict(user[0], 5, method=method), user[1], 5),\n",
    "        recall(predict(user[0], 5, method=method), user[1])))"
   ]
  },
  {
   "cell_type": "code",
   "execution_count": null,
   "metadata": {
    "collapsed": false
   },
   "outputs": [],
   "source": [
    "for user in train_data[0:10]:\n",
    "    mprint(user)"
   ]
  },
  {
   "cell_type": "code",
   "execution_count": null,
   "metadata": {
    "collapsed": true
   },
   "outputs": [],
   "source": []
  }
 ],
 "metadata": {
  "kernelspec": {
   "display_name": "Python [gl-env]",
   "language": "python",
   "name": "Python [gl-env]"
  },
  "language_info": {
   "codemirror_mode": {
    "name": "ipython",
    "version": 2
   },
   "file_extension": ".py",
   "mimetype": "text/x-python",
   "name": "python",
   "nbconvert_exporter": "python",
   "pygments_lexer": "ipython2",
   "version": "2.7.12"
  }
 },
 "nbformat": 4,
 "nbformat_minor": 0
}
