{
 "cells": [
  {
   "cell_type": "code",
   "execution_count": 16,
   "metadata": {
    "collapsed": true
   },
   "outputs": [],
   "source": [
    "import numpy as np\n",
    "import pandas as pd\n",
    "\n",
    "from sklearn.pipeline import make_pipeline\n",
    "from sklearn.cross_validation import cross_val_score\n",
    "from sklearn.linear_model import LogisticRegression, SGDClassifier\n",
    "from sklearn.svm import LinearSVC\n",
    "from sklearn.feature_extraction.text import CountVectorizer, TfidfVectorizer\n",
    "\n",
    "from nltk.corpus import movie_reviews\n",
    "import nltk"
   ]
  },
  {
   "cell_type": "code",
   "execution_count": 2,
   "metadata": {
    "collapsed": true
   },
   "outputs": [],
   "source": [
    "def write_answer(assignment_N, answer):        \n",
    "    with open(\"answ_{}.txt\".format(assignment_N), \"w\") as fout:\n",
    "        if isinstance(answer, str):\n",
    "            fout.write(\"{}\".format(answer))\n",
    "        elif isinstance(answer, int):\n",
    "            fout.write(\"{}\".format(answer))\n",
    "        else:\n",
    "            fout.write(\"{:.2f}\".format(answer))"
   ]
  },
  {
   "cell_type": "code",
   "execution_count": 3,
   "metadata": {
    "collapsed": true
   },
   "outputs": [],
   "source": [
    "negids = movie_reviews.fileids('neg')\n",
    "posids = movie_reviews.fileids('pos')"
   ]
  },
  {
   "cell_type": "code",
   "execution_count": 4,
   "metadata": {
    "collapsed": true
   },
   "outputs": [],
   "source": [
    "negfeats = [movie_reviews.words(fileids=[f]) for f in negids]\n",
    "posfeats = [movie_reviews.words(fileids=[f]) for f in posids]"
   ]
  },
  {
   "cell_type": "code",
   "execution_count": 5,
   "metadata": {
    "collapsed": true
   },
   "outputs": [],
   "source": [
    "allfeats = [' '.join(x) for x in negfeats] + [' '.join(x) for x in posfeats]\n",
    "target = [0]*len(negfeats) + [1]*len(posfeats)"
   ]
  },
  {
   "cell_type": "code",
   "execution_count": 27,
   "metadata": {
    "collapsed": false
   },
   "outputs": [
    {
     "name": "stdout",
     "output_type": "stream",
     "text": [
      "CLF, mean = 0.84, std =0.02\n",
      "CLF, mean = 0.82, std =0.00\n"
     ]
    }
   ],
   "source": [
    "for vect in [CountVectorizer, TfidfVectorizer]:\n",
    "    clf = make_pipeline( vect(), LogisticRegression() )\n",
    "    scores = cross_val_score(clf, allfeats, target, scoring='accuracy', cv=5)\n",
    "    print(\"CLF, mean = {:.2f}, std ={:.2f}\".format(scores.mean(), scores.std()))"
   ]
  },
  {
   "cell_type": "code",
   "execution_count": 26,
   "metadata": {
    "collapsed": true
   },
   "outputs": [],
   "source": [
    "write_answer(1, \"0.84 0.02 0.82 0\")"
   ]
  },
  {
   "cell_type": "code",
   "execution_count": 11,
   "metadata": {
    "collapsed": false
   },
   "outputs": [
    {
     "name": "stdout",
     "output_type": "stream",
     "text": [
      "CLF(min_df = 10), mean = 0.84, std =0.01\n",
      "CLF(min_df = 50), mean = 0.81, std =0.01\n"
     ]
    }
   ],
   "source": [
    "for min_df in [10, 50]:\n",
    "    clf = make_pipeline( CountVectorizer(min_df=min_df), LogisticRegression() )\n",
    "    scores = cross_val_score(clf, allfeats, target, scoring='accuracy', cv=5)\n",
    "    print(\"CLF(min_df = {}), mean = {:.2f}, std ={:.2f}\".format(min_df, scores.mean(), scores.std()))"
   ]
  },
  {
   "cell_type": "code",
   "execution_count": 12,
   "metadata": {
    "collapsed": true
   },
   "outputs": [],
   "source": [
    "write_answer(2, \"0.84 0.81\")"
   ]
  },
  {
   "cell_type": "code",
   "execution_count": 14,
   "metadata": {
    "collapsed": false
   },
   "outputs": [
    {
     "name": "stdout",
     "output_type": "stream",
     "text": [
      "CLF, mean = 0.84, std =0.02\n",
      "CLF, mean = 0.83, std =0.02\n",
      "CLF, mean = 0.76, std =0.06\n"
     ]
    }
   ],
   "source": [
    "for classif in [LogisticRegression, LinearSVC, SGDClassifier]:\n",
    "    clf = make_pipeline( CountVectorizer(), classif() )\n",
    "    scores = cross_val_score(clf, allfeats, target, scoring='accuracy', cv=5)\n",
    "    print(\"CLF, mean = {:.2f}, std ={:.2f}\".format(scores.mean(), scores.std()))"
   ]
  },
  {
   "cell_type": "code",
   "execution_count": 25,
   "metadata": {
    "collapsed": true
   },
   "outputs": [],
   "source": [
    "write_answer(3, \"0.76\")"
   ]
  },
  {
   "cell_type": "code",
   "execution_count": 18,
   "metadata": {
    "collapsed": false
   },
   "outputs": [],
   "source": [
    "stop_words = nltk.corpus.stopwords.words('english')"
   ]
  },
  {
   "cell_type": "code",
   "execution_count": 20,
   "metadata": {
    "collapsed": false
   },
   "outputs": [
    {
     "name": "stdout",
     "output_type": "stream",
     "text": [
      "CLF, mean = 0.84, std =0.01\n",
      "CLF, mean = 0.84, std =0.01\n"
     ]
    }
   ],
   "source": [
    "for sw in[stop_words, 'english']:\n",
    "    clf = make_pipeline( CountVectorizer(stop_words=sw), LogisticRegression() )\n",
    "    scores = cross_val_score(clf, allfeats, target, scoring='accuracy', cv=5)\n",
    "    print(\"CLF, mean = {:.2f}, std ={:.2f}\".format(scores.mean(), scores.std()))"
   ]
  },
  {
   "cell_type": "code",
   "execution_count": 21,
   "metadata": {
    "collapsed": true
   },
   "outputs": [],
   "source": [
    "write_answer(4, \"0.84 0.84\")"
   ]
  },
  {
   "cell_type": "code",
   "execution_count": 22,
   "metadata": {
    "collapsed": true
   },
   "outputs": [],
   "source": [
    "clfs = [\n",
    "    make_pipeline(CountVectorizer(ngram_range=(1,2)), LogisticRegression()),\n",
    "    make_pipeline(CountVectorizer(ngram_range=(3,4),analyzer='char_wb'), LogisticRegression()),\n",
    "]"
   ]
  },
  {
   "cell_type": "code",
   "execution_count": 23,
   "metadata": {
    "collapsed": false
   },
   "outputs": [
    {
     "name": "stdout",
     "output_type": "stream",
     "text": [
      "CLF, mean = 0.85, std =0.02\n",
      "CLF, mean = 0.81, std =0.01\n"
     ]
    }
   ],
   "source": [
    "for clf in clfs:\n",
    "    scores = cross_val_score(clf, allfeats, target, scoring='accuracy', cv=5)\n",
    "    print(\"CLF, mean = {:.2f}, std ={:.2f}\".format(scores.mean(), scores.std()))"
   ]
  },
  {
   "cell_type": "code",
   "execution_count": 24,
   "metadata": {
    "collapsed": true
   },
   "outputs": [],
   "source": [
    "write_answer(5, \"0.85 0.81\")"
   ]
  },
  {
   "cell_type": "code",
   "execution_count": null,
   "metadata": {
    "collapsed": true
   },
   "outputs": [],
   "source": []
  }
 ],
 "metadata": {
  "anaconda-cloud": {},
  "kernelspec": {
   "display_name": "Python [conda env:trading]",
   "language": "python",
   "name": "conda-env-trading-py"
  },
  "language_info": {
   "codemirror_mode": {
    "name": "ipython",
    "version": 3
   },
   "file_extension": ".py",
   "mimetype": "text/x-python",
   "name": "python",
   "nbconvert_exporter": "python",
   "pygments_lexer": "ipython3",
   "version": "3.5.2"
  }
 },
 "nbformat": 4,
 "nbformat_minor": 1
}
