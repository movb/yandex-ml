{
 "cells": [
  {
   "cell_type": "markdown",
   "metadata": {},
   "source": [
    "## Анализ тональности отзывов"
   ]
  },
  {
   "cell_type": "code",
   "execution_count": 6,
   "metadata": {
    "collapsed": false
   },
   "outputs": [],
   "source": [
    "import numpy as np\n",
    "import pandas as pd\n",
    "\n",
    "from sklearn.pipeline import make_pipeline\n",
    "from sklearn.model_selection import cross_val_score\n",
    "from sklearn.linear_model import LogisticRegression, SGDClassifier\n",
    "from sklearn.svm import LinearSVC\n",
    "from sklearn.feature_extraction.text import CountVectorizer, TfidfVectorizer\n",
    "from sklearn.naive_bayes import MultinomialNB\n",
    "\n",
    "import nltk\n",
    "import re\n",
    "import string"
   ]
  },
  {
   "cell_type": "markdown",
   "metadata": {},
   "source": [
    "#### Список стоп-слов:"
   ]
  },
  {
   "cell_type": "code",
   "execution_count": 7,
   "metadata": {
    "collapsed": false
   },
   "outputs": [],
   "source": [
    "stop_words = nltk.corpus.stopwords.words('english')"
   ]
  },
  {
   "cell_type": "markdown",
   "metadata": {},
   "source": [
    "#### Загрузим данные:"
   ]
  },
  {
   "cell_type": "code",
   "execution_count": 8,
   "metadata": {
    "collapsed": false
   },
   "outputs": [],
   "source": [
    "train = pd.read_csv('products_sentiment_train.tsv', sep='\\t', header=None, names=['text', 'target'])\n",
    "test = pd.read_csv('products_sentiment_test.tsv', sep='\\t', index_col='Id')"
   ]
  },
  {
   "cell_type": "code",
   "execution_count": 9,
   "metadata": {
    "collapsed": false
   },
   "outputs": [],
   "source": [
    "sample = pd.read_csv('products_sentiment_sample_submission.csv')"
   ]
  },
  {
   "cell_type": "code",
   "execution_count": 10,
   "metadata": {
    "collapsed": false
   },
   "outputs": [
    {
     "data": {
      "text/plain": [
       "0            2 . take around 10,000 640x480 pictures .\n",
       "1    i downloaded a trial version of computer assoc...\n",
       "2    the wrt54g plus the hga7t is a perfect solutio...\n",
       "3    i dont especially like how music files are uns...\n",
       "4    i was using the cheapie pail ... and it worked...\n",
       "Name: text, dtype: object"
      ]
     },
     "execution_count": 10,
     "metadata": {},
     "output_type": "execute_result"
    }
   ],
   "source": [
    "train.text.head()"
   ]
  },
  {
   "cell_type": "markdown",
   "metadata": {},
   "source": [
    "#### Функция для преобразования текста отзыва. Удаляем все символы пунктуации, слова с цифрами, производим лемматизацию:"
   ]
  },
  {
   "cell_type": "code",
   "execution_count": 11,
   "metadata": {
    "collapsed": true
   },
   "outputs": [],
   "source": [
    "from nltk.stem import WordNetLemmatizer\n",
    "wordnet_lemmatizer = WordNetLemmatizer()"
   ]
  },
  {
   "cell_type": "code",
   "execution_count": 12,
   "metadata": {
    "collapsed": true
   },
   "outputs": [],
   "source": [
    "def hasNumbers(inputString):\n",
    "    return any(char.isdigit() for char in inputString)\n",
    "\n",
    "regex = re.compile('[%s]' % re.escape(string.punctuation))\n",
    "\n",
    "def filt(sent):\n",
    "    sent = regex.sub('', sent)\n",
    "    words = [x.strip() for x in sent.split() if not hasNumbers(x)]\n",
    "    result = []\n",
    "    for word in words:\n",
    "        word = wordnet_lemmatizer.lemmatize(word)\n",
    "        if word in stop_words:\n",
    "            continue\n",
    "        result.append(word)\n",
    "        #result.append(word)\n",
    "            \n",
    "    return ' '.join(result)"
   ]
  },
  {
   "cell_type": "code",
   "execution_count": 13,
   "metadata": {
    "collapsed": true
   },
   "outputs": [],
   "source": [
    "train['text_filt'] = train.text.apply(filt)"
   ]
  },
  {
   "cell_type": "code",
   "execution_count": 14,
   "metadata": {
    "collapsed": true
   },
   "outputs": [],
   "source": [
    "test['text_filt'] = test.text.apply(filt)"
   ]
  },
  {
   "cell_type": "markdown",
   "metadata": {},
   "source": [
    "#### Выберем классификатор:"
   ]
  },
  {
   "cell_type": "code",
   "execution_count": 15,
   "metadata": {
    "collapsed": true
   },
   "outputs": [],
   "source": [
    "def score(clf):\n",
    "    scores = cross_val_score(clf, train.text_filt, train.target, cv=5)\n",
    "    print(\"CLF score mean = {:.5f}, std = {:.5f}\".format(scores.mean(), scores.std()))"
   ]
  },
  {
   "cell_type": "code",
   "execution_count": 16,
   "metadata": {
    "collapsed": false
   },
   "outputs": [
    {
     "name": "stdout",
     "output_type": "stream",
     "text": [
      "CLF score mean = 0.75198, std = 0.01793\n",
      "CLF score mean = 0.73348, std = 0.01275\n",
      "CLF score mean = 0.73398, std = 0.01360\n",
      "CLF score mean = 0.75448, std = 0.01255\n"
     ]
    }
   ],
   "source": [
    "for classf in [LogisticRegression, SGDClassifier, LinearSVC, MultinomialNB]:\n",
    "    clf = make_pipeline(CountVectorizer(ngram_range=(1,1), stop_words='english'), classf())\n",
    "    score(clf)"
   ]
  },
  {
   "cell_type": "markdown",
   "metadata": {},
   "source": [
    "#### Посмотрим на предложения, которые мы плохо определяем:"
   ]
  },
  {
   "cell_type": "code",
   "execution_count": 17,
   "metadata": {
    "collapsed": true
   },
   "outputs": [],
   "source": [
    "from sklearn.cross_validation import train_test_split\n",
    "\n",
    "ttrain, ttest = train_test_split(train)"
   ]
  },
  {
   "cell_type": "code",
   "execution_count": 18,
   "metadata": {
    "collapsed": false
   },
   "outputs": [
    {
     "name": "stdout",
     "output_type": "stream",
     "text": [
      "0: this unit was working fine for the 1st month and a half and then the color signal disappeared . \n",
      "0: however , the battery life isn 't as good as i would like .\n",
      "1: have used it frequently and have had no problems . \n",
      "0: they obviously have quality and reliability problems .\n",
      "0: so , don 't buy this or upgrade .\n",
      "0: recenly the variable speed control went out .\n",
      "0: 2 ) the body construction - buttons , casing , etc , are too plastic . \n",
      "0: the black fly wheel feels pretty cheap & is uncomfortable to use . \n",
      "0: i took my zen micro with me over the weekend , and was forced to lug my laptop with me on the trip for one reason : to keep the zen micro charged .\n",
      "0: another irriation is that if you hold the scroll button down for too long , it keeps going past the song you may have wanted to stop on . \n",
      "1: one other plus is that napster now supports this device via their software . \n",
      "0: the best thing to do with this version , is to leave it on the store shelf . it doesn 't work , and will cost you an enormous amount of your time , not to mention your hard earned dollars .\n",
      "0: don 't use them , so i delete them for addtl space .\n",
      "0: 6 . the zen nx battery requires the ac adapter to recharge ; it does not charge by usb cable ; this is not tragic , but usb recharging would be a convenient ( additional ) choice . \n",
      "0: the colors on the screen are not as crisp as i 'd have liked them to be . \n",
      "0: i was unable achieve a sound quality on par with my simple portable cd player with \" bass boost . \" \n",
      "0: at the very least , a sturdier more protective carrying case would be nice . \n",
      "0: it 's perfect for those who aren 't planning on storing tons of music .\n",
      "0: this simple nuance was too much for nokia , and they still refuse to acknoledge the fact that their technician could have broken the phone or repair the phone for free .\n",
      "0: the box included a little polyester , pull-string bag , ( yes , you read right a bag , something a boy would carry ten marbles in ) and tries to pass it off as the case .\n",
      "0: it had issues right off the bat , with freezing up , staying in ' shutting down ' mode , and just not functioning very well in general .\n",
      "1: the battery life is ok , but can be somewhat short when working a lot with the monitor on . \n",
      "0: 2 ) scroll button / switch \n",
      "0: overall , it does its basic function very well , but we expect more from the mp3 players today and the zen micro does not rise to the occassion .\n",
      "0: if you think you are saving $ 40 getting the hitachi , you are right , and you are also getting a router worth $ 40 less than a makita .\n",
      "0: remote buttons are small and closely spaced , especially with the menu buttons . \n",
      "0: while the software may not be as easy as i-tunes , it is not difficult to use by any stretch .\n",
      "0: this item broke just two weeks after i gave it to my kids for christmas . \n",
      "0: do not buy this product -- \n",
      "0: another problem i had with this camera was the zoom function .\n",
      "0: the internet functions of the phone - wap and gprs - will only work through t-mobile 's services , because they have deleted the menu options that would enable you to configure the phone to be used on a different network . \n",
      "0: screen review could be better .\n",
      "0: 1 ) quite bulky ( it 's about the same size as my minolta vectis s-1 aps slr ) and uses a heavy battery , although not very solid as it is contructed mostly of plastic ( unlike canon 's elph line ) \n",
      "0: i built my own router table with a tilt up top & made a hand crank to replace the height adjustment knob & these two things make it easy to change out & raise or lower the bits .\n",
      "0: this product has virtually all the same installation problems .\n",
      "1: i downloaded a trial version of computer associates ez firewall and antivirus and fell in love with a computer security system all over again .\n",
      "1: by the way , i use the norton 2003 corporate at work with absolutely no trouble .\n",
      "0: it is some protection for the unit , but for useability , forget it . \n",
      "0: the dynamic playlists ( \" now playing \" , i belive creative calls it ) feels very awkward at times and some menus simply take to long to get to and operate .. . \n",
      "0: who in the hell needs a frigging * vga * camera on their cellphone ? ? ?\n",
      "0: there is also no voice recording , something most if not all mp3 players have that the ipod doesn 't .\n",
      "1: audio is mono and fairly acceptable , quiet also with little distortions .\n",
      "0: this is not an enterprise piece of hardware that you will find in an office or corporate environment .\n",
      "0: i thought given all the \" 10 \" reviews about this camera that i would buy it in spite of being a bit pricey .\n",
      "0: 4 ) no fm or voice recording - these would have been nice extras . \n",
      "0: problems with the sound quality were evident right away , but even i couldn 't imagine they 'd be that bad .\n",
      "0: i found that low light situations combined with any sort of action left this camera in the dust . \n",
      "1: the controls are on the side instead of on the front , which i like , because that 's where my thumb is when i hold the thing ! \n",
      "0: i did not managed to make creative nomad explorer to work . \n",
      "0: you can 't do that with a sony t610 ( which i traded for a 6600 ) .\n",
      "0: it has an equalizer , but the iriver h10-20gb has a lot more presets than the ipod .\n",
      "0: i was impressed by this very inexpensive player.for the first three hours , and then it died . \n",
      "0: deficiencies with zennx are easily overcome with 3rd-party earphones ( $ 20 + ) and software ( $ 25 ). \n",
      "1: i don 't have problems with the depth adjustment , the speed control , the collet ( i haven 't tried the 1 / 4 \" sleeve yet ) .\n",
      "1: the sound quality is excellent , except , maybe a * tad * too quiet at times when there are quieter talkers on the other end of the line . \n",
      "0: after 10 years , i now downloaded mccaffee 's product after calling their support .... they answered quickly , and for free , and were very helpful .\n",
      "0: i find the lack of entertaining games on this phone quite disturbing . \n",
      "0: i did see the review here and other places about a cracked lcd screen .\n",
      "0: it could be a little bit bigger , but it 's easy to get used to . \n",
      "0: - radio quality : weak reception\n",
      "1: the eax settings are somewhat superfluous but not really a negative . \n",
      "0: after 4 attempted installs , i have finally given up .\n",
      "0: there is no way the battery supplied lasts 14 hours ! \n",
      "0: i will also say that it takes a very long moment for the camera to do its digital image processing between the time you press the button and when the camera actually takes the picture .\n",
      "1: it 's still alive , still kicking , and still playing .\n",
      "0: the software is not good either and the driver has trouble working with other sound blaster products , which is very dumb . \n",
      "1: 2 . battery life is over 4.5 hours , compared to about 2.5 hours for the g2 or the 2 hours for most nikons . \n",
      "0: knocked 1 star off for the install wizard - it wasted alot of time running it .\n",
      "0: my friend has an ipod , and although the sound quality probably won 't meet most audiophile standards , the product itself is better than anything creative has made .\n",
      "0: in addition , i do not think the battery lasts much more than eight to ten hours , and it can take four hours for a full charge .\n",
      "0: the number buttons are crammed into a 3x4cm area , the fonts are small , the interface is too convoluted and frustrating , it 's not that customisable as well .\n",
      "0: the creative mediasource software that comes with the zen micro is cluttered , and excludes my favorite feature in itunes , the ability to automatically copy everything you import into a certain folder .\n",
      "0: for example , in auto mode you can 't use the flash redeye reduction , you must be in manual mode for that .\n",
      "0: when i hooked it up it only produced sound - a cd played fine , but with a dvd i only got the audio - no picture ! \n",
      "0: as i wrote , this could have been a great product , but expect hidden charges ( read gross profiteering and price gouging ) as the company royally sticks you on every conceivable accessory necessary for normal daily usage .\n",
      "0: however , the main problem that i think is the with the sound quality . \n",
      "0: the g3 had problems focusing in low light and would not take the picture when the shutter was pressed but after the shutter had been released a few seconds . \n",
      "0: also , for some reason the picture looks washed out on s-video , with lots of color bleeding , compared to a component connection ( should not be much of a perceptible difference on a 27 \" tv ). \n",
      "0: apparently , t-mobile is heavily back-logged and can 't keep up with demands . \n",
      "1: the lens retracts and has its own metal cover so you don 't need to fuss with a lens cap .\n",
      "0: the only disappointment so far has been battery life .\n",
      "0: after a week i tried to load some more songs and delete a few but the auto load didn 't do anything but turn on my player .\n",
      "0: i did have to cut off the ears that hold the template guide in place so i could get those big panel raising bits in it .\n",
      "0: it was ( i sold it after a few months ) too expensive for the shots that i got . \n",
      "0: the 2600 had false silver plate instead of play display . \n",
      "0: i also did n't like the way it displayed information way down into the screen when you are in zoom mode . \n",
      "0: that 's when it went from oderless , to oderous !\n",
      "1: fm tuner & microphone : having a tuner in the player is a blessing .\n",
      "1: i don 't believe this camera is still available . but if you can find one , you might like to get it .\n",
      "0: the only thing i don 't like about it is that you have to buy a larger memory card , first thing !\n",
      "0: the interface software itself , which should be user-friendly , was anything but easy-to-use . \n",
      "0: for purposes of clarity , here is my review from that product , edited to be appropriate for this product , since , for the most part , they share many of the same problems .\n",
      "0: the scroll bar problems make the task of creating playlists more frustrating . \n",
      "0: first , let me say that i got the 20gb ipod for christmas , and i most likely would not have spent the $ 300 myself .\n",
      "1: you could take a picture of a stone glinting in the sun and still avoid the shining glaze and get the contours right . \n",
      "0: t-mobile wasn 't upfront about some of the terms to qualify for the rebate .\n",
      "0: too bad they don 't mention anything about how the cd can 't be used with a mac .\n",
      "0: a little weighty ( 9 ounces ... no biggie ) , but otherwise fine . \n",
      "0: it is embarassing getting phone calls from family members telling you that the dvd player you gave them less that 3 months ago is no longer working . \n",
      "0: to use the creative zen player with a subscription service , you need to go to creative 's web site , and download new software for your pc .\n",
      "0: doesn 't have alot of good games on it .\n",
      "0: only thing missing from creative is a cd burner . \n",
      "1: by no means do you have to be a tech junkie to be able to install it , just be able to put a cd in the computer and it tells you what to do .\n",
      "1: the included eax support is useful at times , especially when you listen to a variety of genres , as it will adjust the equalizer for you which can be a big hassle . \n",
      "0: this phone is not suitable for fast people , maybe only for old people .\n",
      "0: well flash photos are never great , and there was still a lot of noise . \n",
      "0: one caveat i have is that i understand the ipod does not save the photos in such a way that the quality of the image is preserved .\n",
      "0: if someone asked me flat out , i 'd say to go woth something else .\n",
      "0: the movie mode can only record a max of 30 seconds at 160x120 per clip and a max of 4 seconds at 640x480 .\n",
      "0: linksys is more costlier than others and is a home / consumer division of cisco .\n",
      "1: also , the display is \" hinged \" and it can be placed in a myriad of positions , or to protect it against any damage . \n",
      "0: this is not a router i would suggest for a novice user , my old dlink di52 !\n",
      "0: i added a crank for those times when i need to make fine adjustments , but i seldom use it .\n",
      "1: there is also a small covering for the lens , so you need not worry that the lens will get scratched .\n",
      "0: 3- it is slow , if you keep the original configuration and progs ( why 'd u buy it then ? ! ) it 'll run smoothly , but still slower than most other coloured-screen nokias .\n",
      "0: the fact that the \" 0 \" key is the space key for text input is a bit confusing , as many phones use the \" # \" key instead . \n",
      "0: the plunge action isn 't smooth unless you make it so .\n",
      "0: respectable , solid , but not awe-inspiring .\n",
      "0: i gave up and got a diaper dekor .\n",
      "0: its steel backing picks up fingerprints and scratches easily , not great from a cosmetic standpoint .\n",
      "1: however , there is a more detailed pdf manual on the cd ( and online ) that should answer any questions about the operational features of the zen micro .\n",
      "0: another problem is that the latest 2.0 firmware upgrade moves you into windows media player 10 which seems to be very , very slow for downloads. charging [ -2 ] # # also note that it doesn 't seem to charge when connected to the pc , only when plugged into an ac socket even though they both connect to the single usb port on the player , so you have to charge the battery separately from downloading music .\n",
      "0: a larger memory card and extra battery are good things to buy .\n"
     ]
    }
   ],
   "source": [
    "clf = make_pipeline(CountVectorizer(ngram_range=(1,1)), MultinomialNB())\n",
    "clf.fit(ttrain.text_filt, ttrain.target)\n",
    "predictions = clf.predict(ttest.text_filt)\n",
    "\n",
    "for x in ttest[ttest.target != predictions].iterrows():\n",
    "    print(\"{}: {}\".format(x[1]['target'], x[1]['text']))"
   ]
  },
  {
   "cell_type": "markdown",
   "metadata": {},
   "source": [
    "#### Обучим классификатор:"
   ]
  },
  {
   "cell_type": "code",
   "execution_count": 30,
   "metadata": {
    "collapsed": false
   },
   "outputs": [
    {
     "data": {
      "text/plain": [
       "Pipeline(steps=[('countvectorizer', CountVectorizer(analyzer='word', binary=False, decode_error='strict',\n",
       "        dtype=<class 'numpy.int64'>, encoding='utf-8', input='content',\n",
       "        lowercase=True, max_df=1.0, max_features=None, min_df=1,\n",
       "        ngram_range=(1, 1), preprocessor=None, stop_words='english',\n",
       "        strip_accents=None, token_pattern='(?u)\\\\b\\\\w\\\\w+\\\\b',\n",
       "        tokenizer=None, vocabulary=None)), ('multinomialnb', MultinomialNB(alpha=1.0, class_prior=None, fit_prior=True))])"
      ]
     },
     "execution_count": 30,
     "metadata": {},
     "output_type": "execute_result"
    }
   ],
   "source": [
    "clf = make_pipeline(CountVectorizer(ngram_range=(1,1)), MultinomialNB())\n",
    "clf.fit(train.text_filt, train.target)"
   ]
  },
  {
   "cell_type": "markdown",
   "metadata": {},
   "source": [
    "#### Сохраним предсказания:"
   ]
  },
  {
   "cell_type": "code",
   "execution_count": 31,
   "metadata": {
    "collapsed": true
   },
   "outputs": [],
   "source": [
    "predictions = clf.predict(test.text_filt)"
   ]
  },
  {
   "cell_type": "code",
   "execution_count": 32,
   "metadata": {
    "collapsed": false
   },
   "outputs": [],
   "source": [
    "out = pd.DataFrame(predictions, index=test.index, columns=['y'])"
   ]
  },
  {
   "cell_type": "code",
   "execution_count": 33,
   "metadata": {
    "collapsed": false
   },
   "outputs": [],
   "source": [
    "out.to_csv('submission.csv')"
   ]
  },
  {
   "cell_type": "markdown",
   "metadata": {},
   "source": [
    "## Word2Vec"
   ]
  },
  {
   "cell_type": "code",
   "execution_count": 83,
   "metadata": {
    "collapsed": false
   },
   "outputs": [],
   "source": [
    "from gensim import utils\n",
    "from gensim.models.doc2vec import LabeledSentence\n",
    "from gensim.models import Doc2Vec\n",
    "\n",
    "from random import shuffle"
   ]
  },
  {
   "cell_type": "code",
   "execution_count": 115,
   "metadata": {
    "collapsed": false
   },
   "outputs": [],
   "source": [
    "class LabeledLineSentence(object):\n",
    "    def __init__(self, train_sentences, train_labels, test_sentences):\n",
    "        self.src_sentences = train_sentences.tolist() + test_sentences.tolist()\n",
    "        self.src_labels = ['TRIAN_{}_{}'.format(x, i) for i, x in enumerate(train_labels)] + \\\n",
    "                          ['TEST_{}'.format(i) for i in range(len(test_sentences))]\n",
    "    \n",
    "    def __iter__(self):\n",
    "        for i,sentence in enumerate(self.src_sentences):\n",
    "            yield LabeledSentence(sentence.split(), [self.src_labels[i]])\n",
    "    \n",
    "    def to_array(self):\n",
    "        self.sentences = []\n",
    "        for i,sentence in enumerate(self.src_sentences):\n",
    "            self.sentences.append(LabeledSentence(sentence.split(), [self.src_labels[i]]))\n",
    "        return self.sentences\n",
    "    \n",
    "    def sentences_perm(self):\n",
    "        b = self.sentences\n",
    "        shuffle(b)\n",
    "        return b"
   ]
  },
  {
   "cell_type": "code",
   "execution_count": 138,
   "metadata": {
    "collapsed": false
   },
   "outputs": [],
   "source": [
    "train_sentences = LabeledLineSentence(train.text_filt, train.target, test.text_filt)"
   ]
  },
  {
   "cell_type": "code",
   "execution_count": 139,
   "metadata": {
    "collapsed": false
   },
   "outputs": [],
   "source": [
    "model = Doc2Vec(min_count=1, window=10, size=100, sample=1e-4, negative=5, workers=7)\n",
    "\n",
    "model.build_vocab(train_sentences.to_array())"
   ]
  },
  {
   "cell_type": "code",
   "execution_count": 140,
   "metadata": {
    "collapsed": false
   },
   "outputs": [
    {
     "name": "stderr",
     "output_type": "stream",
     "text": [
      "/Users/m.plekhanov/tools/anaconda3/envs/trading/lib/python3.5/site-packages/gensim/models/word2vec.py:761: UserWarning: C extension not loaded for Word2Vec, training will be slow. Install a C compiler and reinstall gensim for fast training.\n",
      "  warnings.warn(\"C extension not loaded for Word2Vec, training will be slow. \"\n"
     ]
    }
   ],
   "source": [
    "for epoch in range(10):\n",
    "    model.train(train_sentences.sentences_perm())"
   ]
  },
  {
   "cell_type": "code",
   "execution_count": 142,
   "metadata": {
    "collapsed": false
   },
   "outputs": [
    {
     "data": {
      "text/plain": [
       "[('handsfree', 0.9998518228530884),\n",
       " ('scratch', 0.9998512864112854),\n",
       " ('model', 0.9998455047607422),\n",
       " ('incredible', 0.9998373985290527),\n",
       " ('quite', 0.9998307824134827),\n",
       " ('drop', 0.9998292922973633),\n",
       " ('start', 0.999825656414032),\n",
       " ('required', 0.9998246431350708),\n",
       " ('picture', 0.9998235702514648),\n",
       " ('somewhat', 0.9998204708099365)]"
      ]
     },
     "execution_count": 142,
     "metadata": {},
     "output_type": "execute_result"
    }
   ],
   "source": [
    "model.most_similar('good')"
   ]
  },
  {
   "cell_type": "code",
   "execution_count": 144,
   "metadata": {
    "collapsed": false
   },
   "outputs": [
    {
     "data": {
      "text/plain": [
       "<gensim.models.doc2vec.Doc2Vec at 0x11ed6a8d0>"
      ]
     },
     "execution_count": 144,
     "metadata": {},
     "output_type": "execute_result"
    }
   ],
   "source": [
    "model"
   ]
  },
  {
   "cell_type": "code",
   "execution_count": 150,
   "metadata": {
    "collapsed": false
   },
   "outputs": [],
   "source": [
    "#train_arrays = [model[['TRIAN_{}_{}'.format(x, i)]] for i,x in enumerate(train.target)]"
   ]
  },
  {
   "cell_type": "code",
   "execution_count": 152,
   "metadata": {
    "collapsed": false
   },
   "outputs": [],
   "source": [
    "train_arrays = [model.docvecs[i] for i in range(len(train.target))]"
   ]
  },
  {
   "cell_type": "code",
   "execution_count": 154,
   "metadata": {
    "collapsed": false
   },
   "outputs": [],
   "source": [
    "test_arrays = [model.docvecs[i+len(train.target)] for i in range(test.shape[0])]"
   ]
  },
  {
   "cell_type": "code",
   "execution_count": 155,
   "metadata": {
    "collapsed": false
   },
   "outputs": [
    {
     "data": {
      "text/plain": [
       "LogisticRegression(C=1.0, class_weight=None, dual=False, fit_intercept=True,\n",
       "          intercept_scaling=1, max_iter=100, multi_class='ovr', n_jobs=1,\n",
       "          penalty='l2', random_state=None, solver='liblinear', tol=0.0001,\n",
       "          verbose=0, warm_start=False)"
      ]
     },
     "execution_count": 155,
     "metadata": {},
     "output_type": "execute_result"
    }
   ],
   "source": [
    "classifier = LogisticRegression()\n",
    "classifier.fit(train_arrays, train.target)"
   ]
  },
  {
   "cell_type": "code",
   "execution_count": 157,
   "metadata": {
    "collapsed": false
   },
   "outputs": [
    {
     "data": {
      "text/plain": [
       "0.63250655629097674"
      ]
     },
     "execution_count": 157,
     "metadata": {},
     "output_type": "execute_result"
    }
   ],
   "source": [
    "cross_val_score(LogisticRegression(), train_arrays, train.target, cv=5).mean()"
   ]
  },
  {
   "cell_type": "markdown",
   "metadata": {},
   "source": [
    "#### NLTK Sentiment Analysis"
   ]
  },
  {
   "cell_type": "code",
   "execution_count": 162,
   "metadata": {
    "collapsed": false
   },
   "outputs": [],
   "source": [
    "from nltk.sentiment import SentimentAnalyzer"
   ]
  },
  {
   "cell_type": "markdown",
   "metadata": {},
   "source": [
    "#### NLTK"
   ]
  },
  {
   "cell_type": "code",
   "execution_count": 168,
   "metadata": {
    "collapsed": true
   },
   "outputs": [],
   "source": [
    "from nltk.corpus import product_reviews_2"
   ]
  },
  {
   "cell_type": "code",
   "execution_count": 169,
   "metadata": {
    "collapsed": false
   },
   "outputs": [
    {
     "name": "stdout",
     "output_type": "stream",
     "text": [
      "1\n",
      "51\n",
      "49\n",
      "31\n",
      "48\n",
      "50\n",
      "49\n",
      "0\n",
      "0\n",
      "46\n"
     ]
    }
   ],
   "source": [
    "for file in product_reviews_2.fileids():\n",
    "    print(len(product_reviews_2.reviews(file)))"
   ]
  },
  {
   "cell_type": "code",
   "execution_count": 19,
   "metadata": {
    "collapsed": false
   },
   "outputs": [],
   "source": [
    "from polyglot.text import Text"
   ]
  },
  {
   "cell_type": "code",
   "execution_count": null,
   "metadata": {
    "collapsed": true
   },
   "outputs": [],
   "source": []
  }
 ],
 "metadata": {
  "anaconda-cloud": {},
  "kernelspec": {
   "display_name": "Python [conda env:ml]",
   "language": "python",
   "name": "conda-env-ml-py"
  },
  "language_info": {
   "codemirror_mode": {
    "name": "ipython",
    "version": 3
   },
   "file_extension": ".py",
   "mimetype": "text/x-python",
   "name": "python",
   "nbconvert_exporter": "python",
   "pygments_lexer": "ipython3",
   "version": "3.5.2"
  }
 },
 "nbformat": 4,
 "nbformat_minor": 1
}
