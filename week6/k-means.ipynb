{
 "cells": [
  {
   "cell_type": "code",
   "execution_count": 1,
   "metadata": {
    "collapsed": true
   },
   "outputs": [],
   "source": [
    "import numpy as np"
   ]
  },
  {
   "cell_type": "code",
   "execution_count": 2,
   "metadata": {
    "collapsed": true
   },
   "outputs": [],
   "source": [
    "from skimage.io import imread"
   ]
  },
  {
   "cell_type": "code",
   "execution_count": 3,
   "metadata": {
    "collapsed": true
   },
   "outputs": [],
   "source": [
    "image = imread('parrots.jpg')"
   ]
  },
  {
   "cell_type": "code",
   "execution_count": 4,
   "metadata": {
    "collapsed": true
   },
   "outputs": [],
   "source": [
    "from skimage import img_as_float"
   ]
  },
  {
   "cell_type": "code",
   "execution_count": 5,
   "metadata": {
    "collapsed": false
   },
   "outputs": [],
   "source": [
    "imagef = img_as_float(image)"
   ]
  },
  {
   "cell_type": "code",
   "execution_count": 6,
   "metadata": {
    "collapsed": true
   },
   "outputs": [],
   "source": [
    "from sklearn.cluster import KMeans"
   ]
  },
  {
   "cell_type": "code",
   "execution_count": 7,
   "metadata": {
    "collapsed": true
   },
   "outputs": [],
   "source": [
    "cls = KMeans(init='k-means++', random_state=241)"
   ]
  },
  {
   "cell_type": "code",
   "execution_count": 8,
   "metadata": {
    "collapsed": false
   },
   "outputs": [],
   "source": [
    "width, height, colors = imagef.shape"
   ]
  },
  {
   "cell_type": "code",
   "execution_count": 9,
   "metadata": {
    "collapsed": false
   },
   "outputs": [],
   "source": [
    "imagef = imagef.reshape(width*height,colors)"
   ]
  },
  {
   "cell_type": "code",
   "execution_count": 13,
   "metadata": {
    "collapsed": true
   },
   "outputs": [],
   "source": [
    "def convert(image, pred):\n",
    "    new_image_mean = np.empty(image.shape)\n",
    "    new_image_median = np.empty(image.shape)\n",
    "    for i in range(0,np.max(pred)+1):\n",
    "        new_image_mean[pred==i] = np.mean(image[pred==i],axis=0)\n",
    "        new_image_median[pred==i] = np.median(image[pred==i],axis=0)\n",
    "    return new_image_mean, new_image_median"
   ]
  },
  {
   "cell_type": "code",
   "execution_count": 14,
   "metadata": {
    "collapsed": false
   },
   "outputs": [],
   "source": [
    "from sklearn.metrics import mean_squared_error\n",
    "def psnr(orig, img):\n",
    "    mse = mean_squared_error(orig,img)\n",
    "    return -10*np.log10(mse)"
   ]
  },
  {
   "cell_type": "code",
   "execution_count": 15,
   "metadata": {
    "collapsed": false
   },
   "outputs": [
    {
     "name": "stdout",
     "output_type": "stream",
     "text": [
      "Clusters = 8, psnr_mean = 18.48, psnr_median = 18.18\n",
      "Clusters = 9, psnr_mean = 19.17, psnr_median = 18.88\n",
      "Clusters = 10, psnr_mean = 19.70, psnr_median = 19.47\n",
      "Clusters = 11, psnr_mean = 20.18, psnr_median = 19.91\n"
     ]
    }
   ],
   "source": [
    "for i in range(8,20):\n",
    "    cls = KMeans(n_clusters=i, init='k-means++', random_state=241)\n",
    "    y_pred = cls.fit_predict(imagef)\n",
    "    img_mean, img_median = convert(imagef,y_pred)\n",
    "    psnr_mean = psnr(imagef,img_mean)\n",
    "    psnr_median = psnr(imagef,img_median)\n",
    "    \n",
    "    print(\"Clusters = {0}, psnr_mean = {1:.2f}, psnr_median = {2:.2f}\".format(\n",
    "        i, psnr_mean, psnr_median))\n",
    "    \n",
    "    if(psnr_mean > 20 or psnr_median > 20):\n",
    "        break"
   ]
  },
  {
   "cell_type": "code",
   "execution_count": null,
   "metadata": {
    "collapsed": true
   },
   "outputs": [],
   "source": []
  }
 ],
 "metadata": {
  "kernelspec": {
   "display_name": "Python 3",
   "language": "python",
   "name": "python3"
  },
  "language_info": {
   "codemirror_mode": {
    "name": "ipython",
    "version": 3
   },
   "file_extension": ".py",
   "mimetype": "text/x-python",
   "name": "python",
   "nbconvert_exporter": "python",
   "pygments_lexer": "ipython3",
   "version": "3.5.1"
  }
 },
 "nbformat": 4,
 "nbformat_minor": 0
}
